{
 "cells": [
  {
   "cell_type": "code",
   "execution_count": 1,
   "id": "115e090e-5a71-4ae9-b67a-1f4c1f35ae4b",
   "metadata": {},
   "outputs": [
    {
     "data": {
      "text/html": [
       "    <style>\n",
       "        .bk-notebook-logo {\n",
       "            display: block;\n",
       "            width: 20px;\n",
       "            height: 20px;\n",
       "            background-image: url(data:image/png;base64,iVBORw0KGgoAAAANSUhEUgAAABQAAAAUCAYAAACNiR0NAAAABHNCSVQICAgIfAhkiAAAAAlwSFlzAAALEgAACxIB0t1+/AAAABx0RVh0U29mdHdhcmUAQWRvYmUgRmlyZXdvcmtzIENTNui8sowAAAOkSURBVDiNjZRtaJVlGMd/1/08zzln5zjP1LWcU9N0NkN8m2CYjpgQYQXqSs0I84OLIC0hkEKoPtiH3gmKoiJDU7QpLgoLjLIQCpEsNJ1vqUOdO7ppbuec5+V+rj4ctwzd8IIbbi6u+8f1539dt3A78eXC7QizUF7gyV1fD1Yqg4JWz84yffhm0qkFqBogB9rM8tZdtwVsPUhWhGcFJngGeWrPzHm5oaMmkfEg1usvLFyc8jLRqDOMru7AyC8saQr7GG7f5fvDeH7Ej8CM66nIF+8yngt6HWaKh7k49Soy9nXurCi1o3qUbS3zWfrYeQDTB/Qj6kX6Ybhw4B+bOYoLKCC9H3Nu/leUTZ1JdRWkkn2ldcCamzrcf47KKXdAJllSlxAOkRgyHsGC/zRday5Qld9DyoM4/q/rUoy/CXh3jzOu3bHUVZeU+DEn8FInkPBFlu3+nW3Nw0mk6vCDiWg8CeJaxEwuHS3+z5RgY+YBR6V1Z1nxSOfoaPa4LASWxxdNp+VWTk7+4vzaou8v8PN+xo+KY2xsw6une2frhw05CTYOmQvsEhjhWjn0bmXPjpE1+kplmmkP3suftwTubK9Vq22qKmrBhpY4jvd5afdRA3wGjFAgcnTK2s4hY0/GPNIb0nErGMCRxWOOX64Z8RAC4oCXdklmEvcL8o0BfkNK4lUg9HTl+oPlQxdNo3Mg4Nv175e/1LDGzZen30MEjRUtmXSfiTVu1kK8W4txyV6BMKlbgk3lMwYCiusNy9fVfvvwMxv8Ynl6vxoByANLTWplvuj/nF9m2+PDtt1eiHPBr1oIfhCChQMBw6Aw0UulqTKZdfVvfG7VcfIqLG9bcldL/+pdWTLxLUy8Qq38heUIjh4XlzZxzQm19lLFlr8vdQ97rjZVOLf8nclzckbcD4wxXMidpX30sFd37Fv/GtwwhzhxGVAprjbg0gCAEeIgwCZyTV2Z1REEW8O4py0wsjeloKoMr6iCY6dP92H6Vw/oTyICIthibxjm/DfN9lVz8IqtqKYLUXfoKVMVQVVJOElGjrnnUt9T9wbgp8AyYKaGlqingHZU/uG2NTZSVqwHQTWkx9hxjkpWDaCg6Ckj5qebgBVbT3V3NNXMSiWSDdGV3hrtzla7J+duwPOToIg42ChPQOQjspnSlp1V+Gjdged7+8UN5CRAV7a5EdFNwCjEaBR27b3W890TE7g24NAP/mMDXRWrGoFPQI9ls/MWO2dWFAar/xcOIImbbpA3zgAAAABJRU5ErkJggg==);\n",
       "        }\n",
       "    </style>\n",
       "    <div>\n",
       "        <a href=\"https://bokeh.org\" target=\"_blank\" class=\"bk-notebook-logo\"></a>\n",
       "        <span id=\"e20080d9-0b26-406e-a9ef-db6f84a25db5\">Loading BokehJS ...</span>\n",
       "    </div>\n"
      ]
     },
     "metadata": {},
     "output_type": "display_data"
    },
    {
     "data": {
      "application/javascript": [
       "'use strict';\n",
       "(function(root) {\n",
       "  function now() {\n",
       "    return new Date();\n",
       "  }\n",
       "\n",
       "  const force = true;\n",
       "\n",
       "  if (typeof root._bokeh_onload_callbacks === \"undefined\" || force === true) {\n",
       "    root._bokeh_onload_callbacks = [];\n",
       "    root._bokeh_is_loading = undefined;\n",
       "  }\n",
       "\n",
       "const JS_MIME_TYPE = 'application/javascript';\n",
       "  const HTML_MIME_TYPE = 'text/html';\n",
       "  const EXEC_MIME_TYPE = 'application/vnd.bokehjs_exec.v0+json';\n",
       "  const CLASS_NAME = 'output_bokeh rendered_html';\n",
       "\n",
       "  /**\n",
       "   * Render data to the DOM node\n",
       "   */\n",
       "  function render(props, node) {\n",
       "    const script = document.createElement(\"script\");\n",
       "    node.appendChild(script);\n",
       "  }\n",
       "\n",
       "  /**\n",
       "   * Handle when an output is cleared or removed\n",
       "   */\n",
       "  function handleClearOutput(event, handle) {\n",
       "    function drop(id) {\n",
       "      const view = Bokeh.index.get_by_id(id)\n",
       "      if (view != null) {\n",
       "        view.model.document.clear()\n",
       "        Bokeh.index.delete(view)\n",
       "      }\n",
       "    }\n",
       "\n",
       "    const cell = handle.cell;\n",
       "\n",
       "    const id = cell.output_area._bokeh_element_id;\n",
       "    const server_id = cell.output_area._bokeh_server_id;\n",
       "\n",
       "    // Clean up Bokeh references\n",
       "    if (id != null) {\n",
       "      drop(id)\n",
       "    }\n",
       "\n",
       "    if (server_id !== undefined) {\n",
       "      // Clean up Bokeh references\n",
       "      const cmd_clean = \"from bokeh.io.state import curstate; print(curstate().uuid_to_server['\" + server_id + \"'].get_sessions()[0].document.roots[0]._id)\";\n",
       "      cell.notebook.kernel.execute(cmd_clean, {\n",
       "        iopub: {\n",
       "          output: function(msg) {\n",
       "            const id = msg.content.text.trim()\n",
       "            drop(id)\n",
       "          }\n",
       "        }\n",
       "      });\n",
       "      // Destroy server and session\n",
       "      const cmd_destroy = \"import bokeh.io.notebook as ion; ion.destroy_server('\" + server_id + \"')\";\n",
       "      cell.notebook.kernel.execute(cmd_destroy);\n",
       "    }\n",
       "  }\n",
       "\n",
       "  /**\n",
       "   * Handle when a new output is added\n",
       "   */\n",
       "  function handleAddOutput(event, handle) {\n",
       "    const output_area = handle.output_area;\n",
       "    const output = handle.output;\n",
       "\n",
       "    // limit handleAddOutput to display_data with EXEC_MIME_TYPE content only\n",
       "    if ((output.output_type != \"display_data\") || (!Object.prototype.hasOwnProperty.call(output.data, EXEC_MIME_TYPE))) {\n",
       "      return\n",
       "    }\n",
       "\n",
       "    const toinsert = output_area.element.find(\".\" + CLASS_NAME.split(' ')[0]);\n",
       "\n",
       "    if (output.metadata[EXEC_MIME_TYPE][\"id\"] !== undefined) {\n",
       "      toinsert[toinsert.length - 1].firstChild.textContent = output.data[JS_MIME_TYPE];\n",
       "      // store reference to embed id on output_area\n",
       "      output_area._bokeh_element_id = output.metadata[EXEC_MIME_TYPE][\"id\"];\n",
       "    }\n",
       "    if (output.metadata[EXEC_MIME_TYPE][\"server_id\"] !== undefined) {\n",
       "      const bk_div = document.createElement(\"div\");\n",
       "      bk_div.innerHTML = output.data[HTML_MIME_TYPE];\n",
       "      const script_attrs = bk_div.children[0].attributes;\n",
       "      for (let i = 0; i < script_attrs.length; i++) {\n",
       "        toinsert[toinsert.length - 1].firstChild.setAttribute(script_attrs[i].name, script_attrs[i].value);\n",
       "        toinsert[toinsert.length - 1].firstChild.textContent = bk_div.children[0].textContent\n",
       "      }\n",
       "      // store reference to server id on output_area\n",
       "      output_area._bokeh_server_id = output.metadata[EXEC_MIME_TYPE][\"server_id\"];\n",
       "    }\n",
       "  }\n",
       "\n",
       "  function register_renderer(events, OutputArea) {\n",
       "\n",
       "    function append_mime(data, metadata, element) {\n",
       "      // create a DOM node to render to\n",
       "      const toinsert = this.create_output_subarea(\n",
       "        metadata,\n",
       "        CLASS_NAME,\n",
       "        EXEC_MIME_TYPE\n",
       "      );\n",
       "      this.keyboard_manager.register_events(toinsert);\n",
       "      // Render to node\n",
       "      const props = {data: data, metadata: metadata[EXEC_MIME_TYPE]};\n",
       "      render(props, toinsert[toinsert.length - 1]);\n",
       "      element.append(toinsert);\n",
       "      return toinsert\n",
       "    }\n",
       "\n",
       "    /* Handle when an output is cleared or removed */\n",
       "    events.on('clear_output.CodeCell', handleClearOutput);\n",
       "    events.on('delete.Cell', handleClearOutput);\n",
       "\n",
       "    /* Handle when a new output is added */\n",
       "    events.on('output_added.OutputArea', handleAddOutput);\n",
       "\n",
       "    /**\n",
       "     * Register the mime type and append_mime function with output_area\n",
       "     */\n",
       "    OutputArea.prototype.register_mime_type(EXEC_MIME_TYPE, append_mime, {\n",
       "      /* Is output safe? */\n",
       "      safe: true,\n",
       "      /* Index of renderer in `output_area.display_order` */\n",
       "      index: 0\n",
       "    });\n",
       "  }\n",
       "\n",
       "  // register the mime type if in Jupyter Notebook environment and previously unregistered\n",
       "  if (root.Jupyter !== undefined) {\n",
       "    const events = require('base/js/events');\n",
       "    const OutputArea = require('notebook/js/outputarea').OutputArea;\n",
       "\n",
       "    if (OutputArea.prototype.mime_types().indexOf(EXEC_MIME_TYPE) == -1) {\n",
       "      register_renderer(events, OutputArea);\n",
       "    }\n",
       "  }\n",
       "  if (typeof (root._bokeh_timeout) === \"undefined\" || force === true) {\n",
       "    root._bokeh_timeout = Date.now() + 5000;\n",
       "    root._bokeh_failed_load = false;\n",
       "  }\n",
       "\n",
       "  const NB_LOAD_WARNING = {'data': {'text/html':\n",
       "     \"<div style='background-color: #fdd'>\\n\"+\n",
       "     \"<p>\\n\"+\n",
       "     \"BokehJS does not appear to have successfully loaded. If loading BokehJS from CDN, this \\n\"+\n",
       "     \"may be due to a slow or bad network connection. Possible fixes:\\n\"+\n",
       "     \"</p>\\n\"+\n",
       "     \"<ul>\\n\"+\n",
       "     \"<li>re-rerun `output_notebook()` to attempt to load from CDN again, or</li>\\n\"+\n",
       "     \"<li>use INLINE resources instead, as so:</li>\\n\"+\n",
       "     \"</ul>\\n\"+\n",
       "     \"<code>\\n\"+\n",
       "     \"from bokeh.resources import INLINE\\n\"+\n",
       "     \"output_notebook(resources=INLINE)\\n\"+\n",
       "     \"</code>\\n\"+\n",
       "     \"</div>\"}};\n",
       "\n",
       "  function display_loaded(error = null) {\n",
       "    const el = document.getElementById(\"e20080d9-0b26-406e-a9ef-db6f84a25db5\");\n",
       "    if (el != null) {\n",
       "      const html = (() => {\n",
       "        if (typeof root.Bokeh === \"undefined\") {\n",
       "          if (error == null) {\n",
       "            return \"BokehJS is loading ...\";\n",
       "          } else {\n",
       "            return \"BokehJS failed to load.\";\n",
       "          }\n",
       "        } else {\n",
       "          const prefix = `BokehJS ${root.Bokeh.version}`;\n",
       "          if (error == null) {\n",
       "            return `${prefix} successfully loaded.`;\n",
       "          } else {\n",
       "            return `${prefix} <b>encountered errors</b> while loading and may not function as expected.`;\n",
       "          }\n",
       "        }\n",
       "      })();\n",
       "      el.innerHTML = html;\n",
       "\n",
       "      if (error != null) {\n",
       "        const wrapper = document.createElement(\"div\");\n",
       "        wrapper.style.overflow = \"auto\";\n",
       "        wrapper.style.height = \"5em\";\n",
       "        wrapper.style.resize = \"vertical\";\n",
       "        const content = document.createElement(\"div\");\n",
       "        content.style.fontFamily = \"monospace\";\n",
       "        content.style.whiteSpace = \"pre-wrap\";\n",
       "        content.style.backgroundColor = \"rgb(255, 221, 221)\";\n",
       "        content.textContent = error.stack ?? error.toString();\n",
       "        wrapper.append(content);\n",
       "        el.append(wrapper);\n",
       "      }\n",
       "    } else if (Date.now() < root._bokeh_timeout) {\n",
       "      setTimeout(() => display_loaded(error), 100);\n",
       "    }\n",
       "  }\n",
       "\n",
       "  function run_callbacks() {\n",
       "    try {\n",
       "      root._bokeh_onload_callbacks.forEach(function(callback) {\n",
       "        if (callback != null)\n",
       "          callback();\n",
       "      });\n",
       "    } finally {\n",
       "      delete root._bokeh_onload_callbacks\n",
       "    }\n",
       "    console.debug(\"Bokeh: all callbacks have finished\");\n",
       "  }\n",
       "\n",
       "  function load_libs(css_urls, js_urls, callback) {\n",
       "    if (css_urls == null) css_urls = [];\n",
       "    if (js_urls == null) js_urls = [];\n",
       "\n",
       "    root._bokeh_onload_callbacks.push(callback);\n",
       "    if (root._bokeh_is_loading > 0) {\n",
       "      console.debug(\"Bokeh: BokehJS is being loaded, scheduling callback at\", now());\n",
       "      return null;\n",
       "    }\n",
       "    if (js_urls == null || js_urls.length === 0) {\n",
       "      run_callbacks();\n",
       "      return null;\n",
       "    }\n",
       "    console.debug(\"Bokeh: BokehJS not loaded, scheduling load and callback at\", now());\n",
       "    root._bokeh_is_loading = css_urls.length + js_urls.length;\n",
       "\n",
       "    function on_load() {\n",
       "      root._bokeh_is_loading--;\n",
       "      if (root._bokeh_is_loading === 0) {\n",
       "        console.debug(\"Bokeh: all BokehJS libraries/stylesheets loaded\");\n",
       "        run_callbacks()\n",
       "      }\n",
       "    }\n",
       "\n",
       "    function on_error(url) {\n",
       "      console.error(\"failed to load \" + url);\n",
       "    }\n",
       "\n",
       "    for (let i = 0; i < css_urls.length; i++) {\n",
       "      const url = css_urls[i];\n",
       "      const element = document.createElement(\"link\");\n",
       "      element.onload = on_load;\n",
       "      element.onerror = on_error.bind(null, url);\n",
       "      element.rel = \"stylesheet\";\n",
       "      element.type = \"text/css\";\n",
       "      element.href = url;\n",
       "      console.debug(\"Bokeh: injecting link tag for BokehJS stylesheet: \", url);\n",
       "      document.body.appendChild(element);\n",
       "    }\n",
       "\n",
       "    for (let i = 0; i < js_urls.length; i++) {\n",
       "      const url = js_urls[i];\n",
       "      const element = document.createElement('script');\n",
       "      element.onload = on_load;\n",
       "      element.onerror = on_error.bind(null, url);\n",
       "      element.async = false;\n",
       "      element.src = url;\n",
       "      console.debug(\"Bokeh: injecting script tag for BokehJS library: \", url);\n",
       "      document.head.appendChild(element);\n",
       "    }\n",
       "  };\n",
       "\n",
       "  function inject_raw_css(css) {\n",
       "    const element = document.createElement(\"style\");\n",
       "    element.appendChild(document.createTextNode(css));\n",
       "    document.body.appendChild(element);\n",
       "  }\n",
       "\n",
       "  const js_urls = [\"https://cdn.bokeh.org/bokeh/release/bokeh-3.4.0.min.js\", \"https://cdn.bokeh.org/bokeh/release/bokeh-gl-3.4.0.min.js\", \"https://cdn.bokeh.org/bokeh/release/bokeh-widgets-3.4.0.min.js\", \"https://cdn.bokeh.org/bokeh/release/bokeh-tables-3.4.0.min.js\", \"https://cdn.bokeh.org/bokeh/release/bokeh-mathjax-3.4.0.min.js\"];\n",
       "  const css_urls = [];\n",
       "\n",
       "  const inline_js = [    function(Bokeh) {\n",
       "      Bokeh.set_log_level(\"info\");\n",
       "    },\n",
       "function(Bokeh) {\n",
       "    }\n",
       "  ];\n",
       "\n",
       "  function run_inline_js() {\n",
       "    if (root.Bokeh !== undefined || force === true) {\n",
       "      try {\n",
       "            for (let i = 0; i < inline_js.length; i++) {\n",
       "      inline_js[i].call(root, root.Bokeh);\n",
       "    }\n",
       "\n",
       "      } catch (error) {display_loaded(error);throw error;\n",
       "      }if (force === true) {\n",
       "        display_loaded();\n",
       "      }} else if (Date.now() < root._bokeh_timeout) {\n",
       "      setTimeout(run_inline_js, 100);\n",
       "    } else if (!root._bokeh_failed_load) {\n",
       "      console.log(\"Bokeh: BokehJS failed to load within specified timeout.\");\n",
       "      root._bokeh_failed_load = true;\n",
       "    } else if (force !== true) {\n",
       "      const cell = $(document.getElementById(\"e20080d9-0b26-406e-a9ef-db6f84a25db5\")).parents('.cell').data().cell;\n",
       "      cell.output_area.append_execute_result(NB_LOAD_WARNING)\n",
       "    }\n",
       "  }\n",
       "\n",
       "  if (root._bokeh_is_loading === 0) {\n",
       "    console.debug(\"Bokeh: BokehJS loaded, going straight to plotting\");\n",
       "    run_inline_js();\n",
       "  } else {\n",
       "    load_libs(css_urls, js_urls, function() {\n",
       "      console.debug(\"Bokeh: BokehJS plotting callback run at\", now());\n",
       "      run_inline_js();\n",
       "    });\n",
       "  }\n",
       "}(window));"
      ],
      "application/vnd.bokehjs_load.v0+json": "'use strict';\n(function(root) {\n  function now() {\n    return new Date();\n  }\n\n  const force = true;\n\n  if (typeof root._bokeh_onload_callbacks === \"undefined\" || force === true) {\n    root._bokeh_onload_callbacks = [];\n    root._bokeh_is_loading = undefined;\n  }\n\n\n  if (typeof (root._bokeh_timeout) === \"undefined\" || force === true) {\n    root._bokeh_timeout = Date.now() + 5000;\n    root._bokeh_failed_load = false;\n  }\n\n  const NB_LOAD_WARNING = {'data': {'text/html':\n     \"<div style='background-color: #fdd'>\\n\"+\n     \"<p>\\n\"+\n     \"BokehJS does not appear to have successfully loaded. If loading BokehJS from CDN, this \\n\"+\n     \"may be due to a slow or bad network connection. Possible fixes:\\n\"+\n     \"</p>\\n\"+\n     \"<ul>\\n\"+\n     \"<li>re-rerun `output_notebook()` to attempt to load from CDN again, or</li>\\n\"+\n     \"<li>use INLINE resources instead, as so:</li>\\n\"+\n     \"</ul>\\n\"+\n     \"<code>\\n\"+\n     \"from bokeh.resources import INLINE\\n\"+\n     \"output_notebook(resources=INLINE)\\n\"+\n     \"</code>\\n\"+\n     \"</div>\"}};\n\n  function display_loaded(error = null) {\n    const el = document.getElementById(\"e20080d9-0b26-406e-a9ef-db6f84a25db5\");\n    if (el != null) {\n      const html = (() => {\n        if (typeof root.Bokeh === \"undefined\") {\n          if (error == null) {\n            return \"BokehJS is loading ...\";\n          } else {\n            return \"BokehJS failed to load.\";\n          }\n        } else {\n          const prefix = `BokehJS ${root.Bokeh.version}`;\n          if (error == null) {\n            return `${prefix} successfully loaded.`;\n          } else {\n            return `${prefix} <b>encountered errors</b> while loading and may not function as expected.`;\n          }\n        }\n      })();\n      el.innerHTML = html;\n\n      if (error != null) {\n        const wrapper = document.createElement(\"div\");\n        wrapper.style.overflow = \"auto\";\n        wrapper.style.height = \"5em\";\n        wrapper.style.resize = \"vertical\";\n        const content = document.createElement(\"div\");\n        content.style.fontFamily = \"monospace\";\n        content.style.whiteSpace = \"pre-wrap\";\n        content.style.backgroundColor = \"rgb(255, 221, 221)\";\n        content.textContent = error.stack ?? error.toString();\n        wrapper.append(content);\n        el.append(wrapper);\n      }\n    } else if (Date.now() < root._bokeh_timeout) {\n      setTimeout(() => display_loaded(error), 100);\n    }\n  }\n\n  function run_callbacks() {\n    try {\n      root._bokeh_onload_callbacks.forEach(function(callback) {\n        if (callback != null)\n          callback();\n      });\n    } finally {\n      delete root._bokeh_onload_callbacks\n    }\n    console.debug(\"Bokeh: all callbacks have finished\");\n  }\n\n  function load_libs(css_urls, js_urls, callback) {\n    if (css_urls == null) css_urls = [];\n    if (js_urls == null) js_urls = [];\n\n    root._bokeh_onload_callbacks.push(callback);\n    if (root._bokeh_is_loading > 0) {\n      console.debug(\"Bokeh: BokehJS is being loaded, scheduling callback at\", now());\n      return null;\n    }\n    if (js_urls == null || js_urls.length === 0) {\n      run_callbacks();\n      return null;\n    }\n    console.debug(\"Bokeh: BokehJS not loaded, scheduling load and callback at\", now());\n    root._bokeh_is_loading = css_urls.length + js_urls.length;\n\n    function on_load() {\n      root._bokeh_is_loading--;\n      if (root._bokeh_is_loading === 0) {\n        console.debug(\"Bokeh: all BokehJS libraries/stylesheets loaded\");\n        run_callbacks()\n      }\n    }\n\n    function on_error(url) {\n      console.error(\"failed to load \" + url);\n    }\n\n    for (let i = 0; i < css_urls.length; i++) {\n      const url = css_urls[i];\n      const element = document.createElement(\"link\");\n      element.onload = on_load;\n      element.onerror = on_error.bind(null, url);\n      element.rel = \"stylesheet\";\n      element.type = \"text/css\";\n      element.href = url;\n      console.debug(\"Bokeh: injecting link tag for BokehJS stylesheet: \", url);\n      document.body.appendChild(element);\n    }\n\n    for (let i = 0; i < js_urls.length; i++) {\n      const url = js_urls[i];\n      const element = document.createElement('script');\n      element.onload = on_load;\n      element.onerror = on_error.bind(null, url);\n      element.async = false;\n      element.src = url;\n      console.debug(\"Bokeh: injecting script tag for BokehJS library: \", url);\n      document.head.appendChild(element);\n    }\n  };\n\n  function inject_raw_css(css) {\n    const element = document.createElement(\"style\");\n    element.appendChild(document.createTextNode(css));\n    document.body.appendChild(element);\n  }\n\n  const js_urls = [\"https://cdn.bokeh.org/bokeh/release/bokeh-3.4.0.min.js\", \"https://cdn.bokeh.org/bokeh/release/bokeh-gl-3.4.0.min.js\", \"https://cdn.bokeh.org/bokeh/release/bokeh-widgets-3.4.0.min.js\", \"https://cdn.bokeh.org/bokeh/release/bokeh-tables-3.4.0.min.js\", \"https://cdn.bokeh.org/bokeh/release/bokeh-mathjax-3.4.0.min.js\"];\n  const css_urls = [];\n\n  const inline_js = [    function(Bokeh) {\n      Bokeh.set_log_level(\"info\");\n    },\nfunction(Bokeh) {\n    }\n  ];\n\n  function run_inline_js() {\n    if (root.Bokeh !== undefined || force === true) {\n      try {\n            for (let i = 0; i < inline_js.length; i++) {\n      inline_js[i].call(root, root.Bokeh);\n    }\n\n      } catch (error) {display_loaded(error);throw error;\n      }if (force === true) {\n        display_loaded();\n      }} else if (Date.now() < root._bokeh_timeout) {\n      setTimeout(run_inline_js, 100);\n    } else if (!root._bokeh_failed_load) {\n      console.log(\"Bokeh: BokehJS failed to load within specified timeout.\");\n      root._bokeh_failed_load = true;\n    } else if (force !== true) {\n      const cell = $(document.getElementById(\"e20080d9-0b26-406e-a9ef-db6f84a25db5\")).parents('.cell').data().cell;\n      cell.output_area.append_execute_result(NB_LOAD_WARNING)\n    }\n  }\n\n  if (root._bokeh_is_loading === 0) {\n    console.debug(\"Bokeh: BokehJS loaded, going straight to plotting\");\n    run_inline_js();\n  } else {\n    load_libs(css_urls, js_urls, function() {\n      console.debug(\"Bokeh: BokehJS plotting callback run at\", now());\n      run_inline_js();\n    });\n  }\n}(window));"
     },
     "metadata": {},
     "output_type": "display_data"
    }
   ],
   "source": [
    "from math import pi\n",
    "\n",
    "import numpy as np\n",
    "import pandas as pd\n",
    "\n",
    "from bokeh.plotting import figure, output_notebook, show\n",
    "\n",
    "output_notebook()"
   ]
  },
  {
   "cell_type": "markdown",
   "id": "214a5101-daad-49e8-a0b6-cf2aca6579d3",
   "metadata": {
    "jp-MarkdownHeadingCollapsed": true
   },
   "source": [
    "# Methods"
   ]
  },
  {
   "cell_type": "code",
   "execution_count": 2,
   "id": "b7e8aa7c-cd8e-4d0d-8f64-914704c1f6bb",
   "metadata": {},
   "outputs": [],
   "source": [
    "def get_light_frequency(note, octaves=41):\n",
    "    light_frequency = note * pow(2, octaves) * 1e-12\n",
    "    # print(f\"name: {note['name']}\\n\\t light_frequency: {round(light_frequency, 2)}\")\n",
    "    return light_frequency"
   ]
  },
  {
   "cell_type": "code",
   "execution_count": 3,
   "id": "371b7586-c6b8-408a-a369-11ff490defbc",
   "metadata": {},
   "outputs": [],
   "source": [
    "# Thanks: https://stackoverflow.com/questions/44959955/matplotlib-color-under-curve-based-on-spectral-color\n",
    "def frequency_to_wavelength(frequency):\n",
    "    \"\"\"\n",
    "    converts a frequency (in THz) to wavelength (in nm)\n",
    "    input:\n",
    "        frequency (THz)\n",
    "    output:\n",
    "        wavelength (nm)\n",
    "    \"\"\"\n",
    "    c = 299792458 # m/s\n",
    "    wavelength = c / (frequency * 1e12) * 1e9\n",
    "    return wavelength\n",
    "\n",
    "def wavelength_to_rgb(wavelength, gamma=0.2):\n",
    "    ''' taken from http://www.noah.org/wiki/Wavelength_to_RGB_in_Python\n",
    "    This converts a given wavelength of light to an \n",
    "    approximate RGB color value. The wavelength must be given\n",
    "    in nanometers in the range from 380 nm through 750 nm\n",
    "    (789 THz through 400 THz).\n",
    "\n",
    "    Based on code by Dan Bruton\n",
    "    http://www.physics.sfasu.edu/astro/color/spectra.html\n",
    "    Additionally alpha value set to 0.5 outside range\n",
    "    '''\n",
    "    wavelength = float(wavelength)\n",
    "    if wavelength >= 380 and wavelength <= 750:\n",
    "        A = 1.\n",
    "    else:\n",
    "        A=0.5\n",
    "    if wavelength < 380:\n",
    "        wavelength = 380.\n",
    "    if wavelength >750:\n",
    "        wavelength = 750.\n",
    "    if wavelength >= 380 and wavelength <= 440:\n",
    "        attenuation = 0.3 + 0.7 * (wavelength - 380) / (440 - 380)\n",
    "        R = ((-(wavelength - 440) / (440 - 380)) * attenuation) ** gamma\n",
    "        G = 0.0\n",
    "        B = (1.0 * attenuation) ** gamma\n",
    "    elif wavelength >= 440 and wavelength <= 490:\n",
    "        R = 0.0\n",
    "        G = ((wavelength - 440) / (490 - 440)) ** gamma\n",
    "        B = 1.0\n",
    "    elif wavelength >= 490 and wavelength <= 510:\n",
    "        R = 0.0\n",
    "        G = 1.0\n",
    "        B = (-(wavelength - 510) / (510 - 490)) ** gamma\n",
    "    elif wavelength >= 510 and wavelength <= 580:\n",
    "        R = ((wavelength - 510) / (580 - 510)) ** gamma\n",
    "        G = 1.0\n",
    "        B = 0.0\n",
    "    elif wavelength >= 580 and wavelength <= 645:\n",
    "        R = 1.0\n",
    "        G = (-(wavelength - 645) / (645 - 580)) ** gamma\n",
    "        B = 0.0\n",
    "    elif wavelength >= 645 and wavelength <= 750:\n",
    "        attenuation = 0.3 + 0.7 * (750 - wavelength) / (750 - 645)\n",
    "        R = (1.0 * attenuation) ** gamma\n",
    "        G = 0.0\n",
    "        B = 0.0\n",
    "    else:\n",
    "        R = 0.0\n",
    "        G = 0.0\n",
    "        B = 0.0\n",
    "    scale = 255\n",
    "    R *= scale\n",
    "    G *= scale\n",
    "    B *= scale\n",
    "    return (R,G,B,A)"
   ]
  },
  {
   "cell_type": "code",
   "execution_count": 4,
   "id": "472bc923-9460-4cb5-81f2-8bff5b65b8be",
   "metadata": {},
   "outputs": [],
   "source": [
    "def get_color(frequency):\n",
    "    \"\"\"\n",
    "    return RGBA for given light frequency (in THz)\n",
    "    \"\"\"\n",
    "    return wavelength_to_rgb(frequency_to_wavelength(frequency), gamma=.5)\n",
    "\n"
   ]
  },
  {
   "cell_type": "code",
   "execution_count": 5,
   "id": "a7f20e30-c8f7-432b-99c2-dc63df0b997a",
   "metadata": {},
   "outputs": [],
   "source": [
    "def make_fig(df):\n",
    "    df = df.copy()\n",
    "    df['x'] = range(len(df))\n",
    "    p = figure(height=300)\n",
    "    p.rect(x='x', y=1, width=1, height=1, color='color', source=df)\n",
    "    p.text(\n",
    "        x='x', y=.5, text='name', \n",
    "        text_font_size='22px',\n",
    "        text_color='black',\n",
    "        # text_outline_color='white',\n",
    "        text_font_style='bold',\n",
    "        text_align='center',\n",
    "        source=df\n",
    "    )\n",
    "    return p\n",
    "\n",
    "def plot_notes(notes):\n",
    "    frame = df[df['name'].isin(notes)].copy()\n",
    "    return make_fig(frame)\n",
    "    \n",
    "# show(make_fig(df))"
   ]
  },
  {
   "cell_type": "code",
   "execution_count": 19,
   "id": "71a099c6-4d62-48db-af99-f5f04e050721",
   "metadata": {},
   "outputs": [
    {
     "data": {
      "text/plain": [
       "['f#', 'g', 'g#', 'a', 'a#', 'b', 'c', 'c#', 'd', 'd#', 'e', 'f']"
      ]
     },
     "execution_count": 19,
     "metadata": {},
     "output_type": "execute_result"
    }
   ],
   "source": [
    "notes"
   ]
  },
  {
   "cell_type": "code",
   "execution_count": 22,
   "id": "f92e9ed5-0f80-459a-8eb2-9c9732d1fa4f",
   "metadata": {},
   "outputs": [],
   "source": [
    "def get_chord(root_note, chord_type):\n",
    "    \"\"\"\n",
    "    root_note (str): one of 'notes'\n",
    "    chord_type (str): one of 'major', 'minor'\n",
    "    \"\"\"\n",
    "    root_idx = notes.index(root_note)\n",
    "    indexes = [root_idx]\n",
    "    offset_dict = {\n",
    "        'major': [4, 7],\n",
    "        'minor': [3, 7],\n",
    "        'third': [4],\n",
    "        'fifth': [7],\n",
    "    }\n",
    "    offsets = offset_dict[chord_type]\n",
    "    for offset in offsets:\n",
    "        indexes.append((root_idx + offset) % n_notes)\n",
    "    return [notes[i] for i in indexes]\n",
    "        "
   ]
  },
  {
   "cell_type": "code",
   "execution_count": 33,
   "id": "fc464800-887f-41b9-8831-f782882fde26",
   "metadata": {},
   "outputs": [],
   "source": [
    "\n",
    "def radial_plot(yo, title=None, show_text=True, size=400):\n",
    "    \"\"\"\n",
    "    yo: DataFrame\n",
    "    \"\"\"\n",
    "    \n",
    "    n_wedges = len(yo)\n",
    "    \n",
    "    inner_radius = 0\n",
    "    outer_radius = .5\n",
    "    text_radius = outer_radius * 1.1 #(inner_radius + outer_radius) / 2\n",
    "    angles = np.linspace(0, 2*pi, n_wedges + 1)\n",
    "    \n",
    "    middle_angles = (angles[:-1] + angles[1:] ) / 2\n",
    "    \n",
    "    yo['text_x'] = np.cos(middle_angles) * text_radius\n",
    "    yo['text_y'] = np.sin(middle_angles) * text_radius\n",
    "    \n",
    "    yo['start_angle'] = angles[:-1]\n",
    "    yo['end_angle'] = angles[1:]\n",
    "    \n",
    "    bound = 0.6\n",
    "    p = figure(\n",
    "        x_range=[-bound, bound], y_range=[-bound, bound],\n",
    "        width=size,\n",
    "        height=size,\n",
    "        toolbar_location=None,\n",
    "        x_axis_location=None,\n",
    "        y_axis_location=None,\n",
    "        title=title\n",
    "        \n",
    "    )\n",
    "    p.annular_wedge(\n",
    "        x=0, y=0,\n",
    "        start_angle='start_angle',\n",
    "        end_angle='end_angle',\n",
    "        color='color',\n",
    "        inner_radius=inner_radius,\n",
    "        outer_radius=outer_radius,\n",
    "        source=yo\n",
    "    )\n",
    "    if show_text:\n",
    "        p.text(\n",
    "            text='name',\n",
    "            x='text_x',\n",
    "            y='text_y',\n",
    "            text_font_style='bold',\n",
    "            text_align='center',\n",
    "            source=yo\n",
    "        )\n",
    "    return p"
   ]
  },
  {
   "cell_type": "code",
   "execution_count": 34,
   "id": "98b73332-de5e-45b6-b4c1-14b8dc6da0d4",
   "metadata": {},
   "outputs": [],
   "source": [
    "def plot_chord(tonic, type):\n",
    "    \"\"\"\n",
    "    tonic: str\n",
    "        the root note\n",
    "    type: str\n",
    "        'major', 'minor', etc\n",
    "    \"\"\"\n",
    "    chord_notes = get_chord(tonic, type)\n",
    "    frame = df.loc[df['name'].isin(chord_notes)].copy()\n",
    "    show(radial_plot(frame, title=f'{tonic} {type}'))\n"
   ]
  },
  {
   "cell_type": "markdown",
   "id": "71dbd39d-1051-474f-9b70-c68fe4aaa3f4",
   "metadata": {},
   "source": [
    "# Play"
   ]
  },
  {
   "cell_type": "code",
   "execution_count": 35,
   "id": "6f420185-cc53-4204-a219-fc89da3b60db",
   "metadata": {},
   "outputs": [
    {
     "data": {
      "text/html": [
       "<div>\n",
       "<style scoped>\n",
       "    .dataframe tbody tr th:only-of-type {\n",
       "        vertical-align: middle;\n",
       "    }\n",
       "\n",
       "    .dataframe tbody tr th {\n",
       "        vertical-align: top;\n",
       "    }\n",
       "\n",
       "    .dataframe thead th {\n",
       "        text-align: right;\n",
       "    }\n",
       "</style>\n",
       "<table border=\"1\" class=\"dataframe\">\n",
       "  <thead>\n",
       "    <tr style=\"text-align: right;\">\n",
       "      <th></th>\n",
       "      <th>name</th>\n",
       "      <th>note_frequency_Hz</th>\n",
       "      <th>light_frequency_THz</th>\n",
       "      <th>color</th>\n",
       "    </tr>\n",
       "  </thead>\n",
       "  <tbody>\n",
       "    <tr>\n",
       "      <th>0</th>\n",
       "      <td>f#</td>\n",
       "      <td>185.00</td>\n",
       "      <td>406.819302</td>\n",
       "      <td>(158.67752253917945, 0.0, 0.0, 1.0)</td>\n",
       "    </tr>\n",
       "    <tr>\n",
       "      <th>1</th>\n",
       "      <td>g</td>\n",
       "      <td>196.00</td>\n",
       "      <td>431.008558</td>\n",
       "      <td>(207.6224790905554, 0.0, 0.0, 1.0)</td>\n",
       "    </tr>\n",
       "    <tr>\n",
       "      <th>2</th>\n",
       "      <td>g#</td>\n",
       "      <td>207.65</td>\n",
       "      <td>456.627179</td>\n",
       "      <td>(244.99771754242087, 0.0, 0.0, 1.0)</td>\n",
       "    </tr>\n",
       "    <tr>\n",
       "      <th>3</th>\n",
       "      <td>a</td>\n",
       "      <td>220.00</td>\n",
       "      <td>483.785116</td>\n",
       "      <td>(255.0, 159.14996191897876, 0.0, 1.0)</td>\n",
       "    </tr>\n",
       "    <tr>\n",
       "      <th>4</th>\n",
       "      <td>a#</td>\n",
       "      <td>233.08</td>\n",
       "      <td>512.548340</td>\n",
       "      <td>(255.0, 245.1884773698106, 0.0, 1.0)</td>\n",
       "    </tr>\n",
       "    <tr>\n",
       "      <th>5</th>\n",
       "      <td>b</td>\n",
       "      <td>246.94</td>\n",
       "      <td>543.026803</td>\n",
       "      <td>(197.7024800405969, 255.0, 0.0, 1.0)</td>\n",
       "    </tr>\n",
       "    <tr>\n",
       "      <th>6</th>\n",
       "      <td>c</td>\n",
       "      <td>261.63</td>\n",
       "      <td>575.330454</td>\n",
       "      <td>(101.44624977690603, 255.0, 0.0, 1.0)</td>\n",
       "    </tr>\n",
       "    <tr>\n",
       "      <th>7</th>\n",
       "      <td>c#</td>\n",
       "      <td>277.18</td>\n",
       "      <td>609.525266</td>\n",
       "      <td>(0.0, 255.0, 242.9480556450771, 1.0)</td>\n",
       "    </tr>\n",
       "    <tr>\n",
       "      <th>8</th>\n",
       "      <td>d</td>\n",
       "      <td>293.66</td>\n",
       "      <td>645.765169</td>\n",
       "      <td>(0.0, 177.56414477967783, 255.0, 1.0)</td>\n",
       "    </tr>\n",
       "    <tr>\n",
       "      <th>9</th>\n",
       "      <td>d#</td>\n",
       "      <td>311.13</td>\n",
       "      <td>684.182105</td>\n",
       "      <td>(43.98033984308385, 0.0, 252.27282488970076, 1.0)</td>\n",
       "    </tr>\n",
       "    <tr>\n",
       "      <th>10</th>\n",
       "      <td>e</td>\n",
       "      <td>329.63</td>\n",
       "      <td>724.864036</td>\n",
       "      <td>(140.73130645437251, 0.0, 212.09777505838335, ...</td>\n",
       "    </tr>\n",
       "    <tr>\n",
       "      <th>11</th>\n",
       "      <td>f</td>\n",
       "      <td>349.23</td>\n",
       "      <td>767.964892</td>\n",
       "      <td>(150.47814459566175, 0.0, 165.4582127824298, 1.0)</td>\n",
       "    </tr>\n",
       "  </tbody>\n",
       "</table>\n",
       "</div>"
      ],
      "text/plain": [
       "   name  note_frequency_Hz  light_frequency_THz  \\\n",
       "0    f#             185.00           406.819302   \n",
       "1     g             196.00           431.008558   \n",
       "2    g#             207.65           456.627179   \n",
       "3     a             220.00           483.785116   \n",
       "4    a#             233.08           512.548340   \n",
       "5     b             246.94           543.026803   \n",
       "6     c             261.63           575.330454   \n",
       "7    c#             277.18           609.525266   \n",
       "8     d             293.66           645.765169   \n",
       "9    d#             311.13           684.182105   \n",
       "10    e             329.63           724.864036   \n",
       "11    f             349.23           767.964892   \n",
       "\n",
       "                                                color  \n",
       "0                 (158.67752253917945, 0.0, 0.0, 1.0)  \n",
       "1                  (207.6224790905554, 0.0, 0.0, 1.0)  \n",
       "2                 (244.99771754242087, 0.0, 0.0, 1.0)  \n",
       "3               (255.0, 159.14996191897876, 0.0, 1.0)  \n",
       "4                (255.0, 245.1884773698106, 0.0, 1.0)  \n",
       "5                (197.7024800405969, 255.0, 0.0, 1.0)  \n",
       "6               (101.44624977690603, 255.0, 0.0, 1.0)  \n",
       "7                (0.0, 255.0, 242.9480556450771, 1.0)  \n",
       "8               (0.0, 177.56414477967783, 255.0, 1.0)  \n",
       "9   (43.98033984308385, 0.0, 252.27282488970076, 1.0)  \n",
       "10  (140.73130645437251, 0.0, 212.09777505838335, ...  \n",
       "11  (150.47814459566175, 0.0, 165.4582127824298, 1.0)  "
      ]
     },
     "execution_count": 35,
     "metadata": {},
     "output_type": "execute_result"
    }
   ],
   "source": [
    "# source: https://muted.io/note-frequencies/\n",
    "notes = [\n",
    "    {'name': 'f#', 'note_frequency_Hz': 185},\n",
    "    {'name': 'g',  'note_frequency_Hz': 196},\n",
    "    {'name': 'g#', 'note_frequency_Hz': 207.65},\n",
    "    {'name': 'a',  'note_frequency_Hz': 220},\n",
    "    {'name': 'a#', 'note_frequency_Hz': 233.08},\n",
    "    {'name': 'b',  'note_frequency_Hz': 246.94},\n",
    "    {'name': 'c',  'note_frequency_Hz': 261.63},\n",
    "    {'name': 'c#', 'note_frequency_Hz': 277.18},\n",
    "    {'name': 'd',  'note_frequency_Hz': 293.66},\n",
    "    {'name': 'd#', 'note_frequency_Hz': 311.13},\n",
    "    {'name': 'e',  'note_frequency_Hz': 329.63},\n",
    "    {'name': 'f',  'note_frequency_Hz': 349.23},\n",
    "]\n",
    "\n",
    "df = pd.DataFrame(notes)\n",
    "\n",
    "df['light_frequency_THz'] = df['note_frequency_Hz'].apply(get_light_frequency)\n",
    "df['color'] = df['light_frequency_THz'].apply(get_color)\n",
    "\n",
    "df"
   ]
  },
  {
   "cell_type": "code",
   "execution_count": 36,
   "id": "6a4ea0ed-aba9-4fa6-afc8-600132414a3c",
   "metadata": {},
   "outputs": [
    {
     "data": {
      "text/plain": [
       "['f#', 'g', 'g#', 'a', 'a#', 'b', 'c', 'c#', 'd', 'd#', 'e', 'f']"
      ]
     },
     "execution_count": 36,
     "metadata": {},
     "output_type": "execute_result"
    }
   ],
   "source": [
    "notes = list(df['name'])\n",
    "n_notes = len(notes) # 12, chromatic scale\n",
    "notes"
   ]
  },
  {
   "cell_type": "code",
   "execution_count": 37,
   "id": "855e7704-5ee8-4a0a-bf66-1a442adf9834",
   "metadata": {},
   "outputs": [
    {
     "name": "stdout",
     "output_type": "stream",
     "text": [
      "['g', 'b', 'd']\n"
     ]
    }
   ],
   "source": [
    "g_major = get_chord('g', 'major')\n",
    "g_minor = get_chord('g', 'minor')\n",
    "print(g_major)"
   ]
  },
  {
   "cell_type": "code",
   "execution_count": 69,
   "id": "d121c9ee-da72-46ce-99b5-7aea45859aad",
   "metadata": {},
   "outputs": [
    {
     "data": {
      "text/html": [
       "\n",
       "  <div id=\"ed97c79c-8a71-4d01-b7c5-312e6d5fd894\" data-root-id=\"p3821\" style=\"display: contents;\"></div>\n"
      ]
     },
     "metadata": {},
     "output_type": "display_data"
    },
    {
     "data": {
      "application/javascript": [
       "(function(root) {\n",
       "  function embed_document(root) {\n",
       "  const docs_json = {\"0291470d-3605-41fc-803c-658657d03d0b\":{\"version\":\"3.4.0\",\"title\":\"Bokeh Application\",\"roots\":[{\"type\":\"object\",\"name\":\"Figure\",\"id\":\"p3821\",\"attributes\":{\"width\":400,\"height\":400,\"x_range\":{\"type\":\"object\",\"name\":\"Range1d\",\"id\":\"p3830\",\"attributes\":{\"start\":-0.6,\"end\":0.6}},\"y_range\":{\"type\":\"object\",\"name\":\"Range1d\",\"id\":\"p3831\",\"attributes\":{\"start\":-0.6,\"end\":0.6}},\"x_scale\":{\"type\":\"object\",\"name\":\"LinearScale\",\"id\":\"p3832\"},\"y_scale\":{\"type\":\"object\",\"name\":\"LinearScale\",\"id\":\"p3833\"},\"title\":null,\"renderers\":[{\"type\":\"object\",\"name\":\"GlyphRenderer\",\"id\":\"p3864\",\"attributes\":{\"data_source\":{\"type\":\"object\",\"name\":\"ColumnDataSource\",\"id\":\"p3855\",\"attributes\":{\"selected\":{\"type\":\"object\",\"name\":\"Selection\",\"id\":\"p3856\",\"attributes\":{\"indices\":[],\"line_indices\":[]}},\"selection_policy\":{\"type\":\"object\",\"name\":\"UnionRenderers\",\"id\":\"p3857\"},\"data\":{\"type\":\"map\",\"entries\":[[\"index\",{\"type\":\"ndarray\",\"array\":{\"type\":\"bytes\",\"data\":\"AAAAAAEAAAACAAAAAwAAAAQAAAAFAAAABgAAAAcAAAAIAAAACQAAAAoAAAALAAAA\"},\"shape\":[12],\"dtype\":\"int32\",\"order\":\"little\"}],[\"name\",{\"type\":\"ndarray\",\"array\":[\"f#\",\"g\",\"g#\",\"a\",\"a#\",\"b\",\"c\",\"c#\",\"d\",\"d#\",\"e\",\"f\"],\"shape\":[12],\"dtype\":\"object\",\"order\":\"little\"}],[\"note_frequency_Hz\",{\"type\":\"ndarray\",\"array\":{\"type\":\"bytes\",\"data\":\"AAAAAAAgZ0AAAAAAAIBoQM3MzMzM9GlAAAAAAACAa0DD9ShcjyJtQK5H4XoU3m5ArkfhehRacEB7FK5H4VJxQMP1KFyPWnJArkfhehRyc0CuR+F6FJp0QEjhehSu03VA\"},\"shape\":[12],\"dtype\":\"float64\",\"order\":\"little\"}],[\"light_frequency_THz\",{\"type\":\"ndarray\",\"array\":{\"type\":\"bytes\",\"data\":\"TVy03BtteUBqTs4NI/B6QDj83OwIinxATeoG1o88fkAcNEsAYwSAQEj9WOQ2+IBA9xJAxaT6gUDvnKW+MwyDQAD4ChEfLoRAuXO683RhhUAjRZCL6aaGQA/JDRm4/4dA\"},\"shape\":[12],\"dtype\":\"float64\",\"order\":\"little\"}],[\"color\",{\"type\":\"ndarray\",\"array\":[[158.67752253917945,0.0,0.0,1.0],[207.6224790905554,0.0,0.0,1.0],[244.99771754242087,0.0,0.0,1.0],[255.0,159.14996191897876,0.0,1.0],[255.0,245.1884773698106,0.0,1.0],[197.7024800405969,255.0,0.0,1.0],[101.44624977690603,255.0,0.0,1.0],[0.0,255.0,242.9480556450771,1.0],[0.0,177.56414477967783,255.0,1.0],[43.98033984308385,0.0,252.27282488970076,1.0],[140.73130645437251,0.0,212.09777505838335,1.0],[150.47814459566175,0.0,165.4582127824298,1.0]],\"shape\":[12],\"dtype\":\"object\",\"order\":\"little\"}],[\"text_x\",{\"type\":\"ndarray\",\"array\":{\"type\":\"bytes\",\"data\":\"5jWbTRMA4T8vKL9w4ePYPz2H7lSKOMI/NofuVIo4wr8uKL9w4ePYv+U1m00TAOG/5jWbTRMA4b8wKL9w4ePYvzaH7lSKOMK/MIfuVIo4wj8mKL9w4ePYP+Y1m00TAOE/\"},\"shape\":[12],\"dtype\":\"float64\",\"order\":\"little\"}],[\"text_y\",{\"type\":\"ndarray\",\"array\":{\"type\":\"bytes\",\"data\":\"OIfuVIo4wj8uKL9w4ePYP+U1m00TAOE/5jWbTRMA4T8vKL9w4ePYPz6H7lSKOMI/MYfuVIo4wr8uKL9w4ePYv+Y1m00TAOG/5jWbTRMA4b83KL9w4ePYvzeH7lSKOMK/\"},\"shape\":[12],\"dtype\":\"float64\",\"order\":\"little\"}],[\"start_angle\",{\"type\":\"ndarray\",\"array\":{\"type\":\"bytes\",\"data\":\"AAAAAAAAAABlcy04UsHgP2VzLThSwfA/GC1EVPsh+T9lcy04UsEAQD7QOMam8QRAGC1EVPshCUDxiU/iT1INQGVzLThSwRBA0iEzf3zZEkA+0DjGpvEUQKt+Pg3RCRdA\"},\"shape\":[12],\"dtype\":\"float64\",\"order\":\"little\"}],[\"end_angle\",{\"type\":\"ndarray\",\"array\":{\"type\":\"bytes\",\"data\":\"ZXMtOFLB4D9lcy04UsHwPxgtRFT7Ifk/ZXMtOFLBAEA+0DjGpvEEQBgtRFT7IQlA8YlP4k9SDUBlcy04UsEQQNIhM3982RJAPtA4xqbxFECrfj4N0QkXQBgtRFT7IRlA\"},\"shape\":[12],\"dtype\":\"float64\",\"order\":\"little\"}]]}}},\"view\":{\"type\":\"object\",\"name\":\"CDSView\",\"id\":\"p3865\",\"attributes\":{\"filter\":{\"type\":\"object\",\"name\":\"AllIndices\",\"id\":\"p3866\"}}},\"glyph\":{\"type\":\"object\",\"name\":\"AnnularWedge\",\"id\":\"p3861\",\"attributes\":{\"x\":{\"type\":\"value\",\"value\":0},\"y\":{\"type\":\"value\",\"value\":0},\"inner_radius\":{\"type\":\"value\",\"value\":0},\"outer_radius\":{\"type\":\"value\",\"value\":0.5},\"start_angle\":{\"type\":\"field\",\"field\":\"start_angle\"},\"end_angle\":{\"type\":\"field\",\"field\":\"end_angle\"},\"line_color\":{\"type\":\"field\",\"field\":\"color\"},\"fill_color\":{\"type\":\"field\",\"field\":\"color\"},\"hatch_color\":{\"type\":\"field\",\"field\":\"color\"}}},\"nonselection_glyph\":{\"type\":\"object\",\"name\":\"AnnularWedge\",\"id\":\"p3862\",\"attributes\":{\"x\":{\"type\":\"value\",\"value\":0},\"y\":{\"type\":\"value\",\"value\":0},\"inner_radius\":{\"type\":\"value\",\"value\":0},\"outer_radius\":{\"type\":\"value\",\"value\":0.5},\"start_angle\":{\"type\":\"field\",\"field\":\"start_angle\"},\"end_angle\":{\"type\":\"field\",\"field\":\"end_angle\"},\"line_color\":{\"type\":\"field\",\"field\":\"color\"},\"line_alpha\":{\"type\":\"value\",\"value\":0.1},\"fill_color\":{\"type\":\"field\",\"field\":\"color\"},\"fill_alpha\":{\"type\":\"value\",\"value\":0.1},\"hatch_color\":{\"type\":\"field\",\"field\":\"color\"},\"hatch_alpha\":{\"type\":\"value\",\"value\":0.1}}},\"muted_glyph\":{\"type\":\"object\",\"name\":\"AnnularWedge\",\"id\":\"p3863\",\"attributes\":{\"x\":{\"type\":\"value\",\"value\":0},\"y\":{\"type\":\"value\",\"value\":0},\"inner_radius\":{\"type\":\"value\",\"value\":0},\"outer_radius\":{\"type\":\"value\",\"value\":0.5},\"start_angle\":{\"type\":\"field\",\"field\":\"start_angle\"},\"end_angle\":{\"type\":\"field\",\"field\":\"end_angle\"},\"line_color\":{\"type\":\"field\",\"field\":\"color\"},\"line_alpha\":{\"type\":\"value\",\"value\":0.2},\"fill_color\":{\"type\":\"field\",\"field\":\"color\"},\"fill_alpha\":{\"type\":\"value\",\"value\":0.2},\"hatch_color\":{\"type\":\"field\",\"field\":\"color\"},\"hatch_alpha\":{\"type\":\"value\",\"value\":0.2}}}}},{\"type\":\"object\",\"name\":\"GlyphRenderer\",\"id\":\"p3876\",\"attributes\":{\"data_source\":{\"type\":\"object\",\"name\":\"ColumnDataSource\",\"id\":\"p3867\",\"attributes\":{\"selected\":{\"type\":\"object\",\"name\":\"Selection\",\"id\":\"p3868\",\"attributes\":{\"indices\":[],\"line_indices\":[]}},\"selection_policy\":{\"type\":\"object\",\"name\":\"UnionRenderers\",\"id\":\"p3869\"},\"data\":{\"type\":\"map\",\"entries\":[[\"index\",{\"type\":\"ndarray\",\"array\":{\"type\":\"bytes\",\"data\":\"AAAAAAEAAAACAAAAAwAAAAQAAAAFAAAABgAAAAcAAAAIAAAACQAAAAoAAAALAAAA\"},\"shape\":[12],\"dtype\":\"int32\",\"order\":\"little\"}],[\"name\",{\"type\":\"ndarray\",\"array\":[\"f#\",\"g\",\"g#\",\"a\",\"a#\",\"b\",\"c\",\"c#\",\"d\",\"d#\",\"e\",\"f\"],\"shape\":[12],\"dtype\":\"object\",\"order\":\"little\"}],[\"note_frequency_Hz\",{\"type\":\"ndarray\",\"array\":{\"type\":\"bytes\",\"data\":\"AAAAAAAgZ0AAAAAAAIBoQM3MzMzM9GlAAAAAAACAa0DD9ShcjyJtQK5H4XoU3m5ArkfhehRacEB7FK5H4VJxQMP1KFyPWnJArkfhehRyc0CuR+F6FJp0QEjhehSu03VA\"},\"shape\":[12],\"dtype\":\"float64\",\"order\":\"little\"}],[\"light_frequency_THz\",{\"type\":\"ndarray\",\"array\":{\"type\":\"bytes\",\"data\":\"TVy03BtteUBqTs4NI/B6QDj83OwIinxATeoG1o88fkAcNEsAYwSAQEj9WOQ2+IBA9xJAxaT6gUDvnKW+MwyDQAD4ChEfLoRAuXO683RhhUAjRZCL6aaGQA/JDRm4/4dA\"},\"shape\":[12],\"dtype\":\"float64\",\"order\":\"little\"}],[\"color\",{\"type\":\"ndarray\",\"array\":[[158.67752253917945,0.0,0.0,1.0],[207.6224790905554,0.0,0.0,1.0],[244.99771754242087,0.0,0.0,1.0],[255.0,159.14996191897876,0.0,1.0],[255.0,245.1884773698106,0.0,1.0],[197.7024800405969,255.0,0.0,1.0],[101.44624977690603,255.0,0.0,1.0],[0.0,255.0,242.9480556450771,1.0],[0.0,177.56414477967783,255.0,1.0],[43.98033984308385,0.0,252.27282488970076,1.0],[140.73130645437251,0.0,212.09777505838335,1.0],[150.47814459566175,0.0,165.4582127824298,1.0]],\"shape\":[12],\"dtype\":\"object\",\"order\":\"little\"}],[\"text_x\",{\"type\":\"ndarray\",\"array\":{\"type\":\"bytes\",\"data\":\"5jWbTRMA4T8vKL9w4ePYPz2H7lSKOMI/NofuVIo4wr8uKL9w4ePYv+U1m00TAOG/5jWbTRMA4b8wKL9w4ePYvzaH7lSKOMK/MIfuVIo4wj8mKL9w4ePYP+Y1m00TAOE/\"},\"shape\":[12],\"dtype\":\"float64\",\"order\":\"little\"}],[\"text_y\",{\"type\":\"ndarray\",\"array\":{\"type\":\"bytes\",\"data\":\"OIfuVIo4wj8uKL9w4ePYP+U1m00TAOE/5jWbTRMA4T8vKL9w4ePYPz6H7lSKOMI/MYfuVIo4wr8uKL9w4ePYv+Y1m00TAOG/5jWbTRMA4b83KL9w4ePYvzeH7lSKOMK/\"},\"shape\":[12],\"dtype\":\"float64\",\"order\":\"little\"}],[\"start_angle\",{\"type\":\"ndarray\",\"array\":{\"type\":\"bytes\",\"data\":\"AAAAAAAAAABlcy04UsHgP2VzLThSwfA/GC1EVPsh+T9lcy04UsEAQD7QOMam8QRAGC1EVPshCUDxiU/iT1INQGVzLThSwRBA0iEzf3zZEkA+0DjGpvEUQKt+Pg3RCRdA\"},\"shape\":[12],\"dtype\":\"float64\",\"order\":\"little\"}],[\"end_angle\",{\"type\":\"ndarray\",\"array\":{\"type\":\"bytes\",\"data\":\"ZXMtOFLB4D9lcy04UsHwPxgtRFT7Ifk/ZXMtOFLBAEA+0DjGpvEEQBgtRFT7IQlA8YlP4k9SDUBlcy04UsEQQNIhM3982RJAPtA4xqbxFECrfj4N0QkXQBgtRFT7IRlA\"},\"shape\":[12],\"dtype\":\"float64\",\"order\":\"little\"}]]}}},\"view\":{\"type\":\"object\",\"name\":\"CDSView\",\"id\":\"p3877\",\"attributes\":{\"filter\":{\"type\":\"object\",\"name\":\"AllIndices\",\"id\":\"p3878\"}}},\"glyph\":{\"type\":\"object\",\"name\":\"Text\",\"id\":\"p3873\",\"attributes\":{\"x\":{\"type\":\"field\",\"field\":\"text_x\"},\"y\":{\"type\":\"field\",\"field\":\"text_y\"},\"text\":{\"type\":\"field\",\"field\":\"name\"},\"text_color\":{\"type\":\"value\",\"value\":\"black\"},\"text_font_style\":{\"type\":\"value\",\"value\":\"bold\"},\"text_align\":{\"type\":\"value\",\"value\":\"center\"}}},\"nonselection_glyph\":{\"type\":\"object\",\"name\":\"Text\",\"id\":\"p3874\",\"attributes\":{\"x\":{\"type\":\"field\",\"field\":\"text_x\"},\"y\":{\"type\":\"field\",\"field\":\"text_y\"},\"text\":{\"type\":\"field\",\"field\":\"name\"},\"text_color\":{\"type\":\"value\",\"value\":\"black\"},\"text_alpha\":{\"type\":\"value\",\"value\":0.1},\"text_font_style\":{\"type\":\"value\",\"value\":\"bold\"},\"text_align\":{\"type\":\"value\",\"value\":\"center\"}}},\"muted_glyph\":{\"type\":\"object\",\"name\":\"Text\",\"id\":\"p3875\",\"attributes\":{\"x\":{\"type\":\"field\",\"field\":\"text_x\"},\"y\":{\"type\":\"field\",\"field\":\"text_y\"},\"text\":{\"type\":\"field\",\"field\":\"name\"},\"text_color\":{\"type\":\"value\",\"value\":\"black\"},\"text_alpha\":{\"type\":\"value\",\"value\":0.2},\"text_font_style\":{\"type\":\"value\",\"value\":\"bold\"},\"text_align\":{\"type\":\"value\",\"value\":\"center\"}}}}}],\"toolbar\":{\"type\":\"object\",\"name\":\"Toolbar\",\"id\":\"p3829\",\"attributes\":{\"tools\":[{\"type\":\"object\",\"name\":\"PanTool\",\"id\":\"p3844\"},{\"type\":\"object\",\"name\":\"WheelZoomTool\",\"id\":\"p3845\",\"attributes\":{\"renderers\":\"auto\"}},{\"type\":\"object\",\"name\":\"BoxZoomTool\",\"id\":\"p3846\",\"attributes\":{\"overlay\":{\"type\":\"object\",\"name\":\"BoxAnnotation\",\"id\":\"p3847\",\"attributes\":{\"syncable\":false,\"level\":\"overlay\",\"visible\":false,\"left\":{\"type\":\"number\",\"value\":\"nan\"},\"right\":{\"type\":\"number\",\"value\":\"nan\"},\"top\":{\"type\":\"number\",\"value\":\"nan\"},\"bottom\":{\"type\":\"number\",\"value\":\"nan\"},\"left_units\":\"canvas\",\"right_units\":\"canvas\",\"top_units\":\"canvas\",\"bottom_units\":\"canvas\",\"line_color\":\"black\",\"line_alpha\":1.0,\"line_width\":2,\"line_dash\":[4,4],\"fill_color\":\"lightgrey\",\"fill_alpha\":0.5}}}},{\"type\":\"object\",\"name\":\"SaveTool\",\"id\":\"p3852\"},{\"type\":\"object\",\"name\":\"ResetTool\",\"id\":\"p3853\"},{\"type\":\"object\",\"name\":\"HelpTool\",\"id\":\"p3854\"}]}},\"toolbar_location\":null,\"center\":[{\"type\":\"object\",\"name\":\"Grid\",\"id\":\"p3838\",\"attributes\":{\"axis\":{\"type\":\"object\",\"name\":\"LinearAxis\",\"id\":\"p3834\",\"attributes\":{\"ticker\":{\"type\":\"object\",\"name\":\"BasicTicker\",\"id\":\"p3835\",\"attributes\":{\"mantissas\":[1,2,5]}},\"formatter\":{\"type\":\"object\",\"name\":\"BasicTickFormatter\",\"id\":\"p3836\"},\"major_label_policy\":{\"type\":\"object\",\"name\":\"AllLabels\",\"id\":\"p3837\"}}}}},{\"type\":\"object\",\"name\":\"Grid\",\"id\":\"p3843\",\"attributes\":{\"dimension\":1,\"axis\":{\"type\":\"object\",\"name\":\"LinearAxis\",\"id\":\"p3839\",\"attributes\":{\"ticker\":{\"type\":\"object\",\"name\":\"BasicTicker\",\"id\":\"p3840\",\"attributes\":{\"mantissas\":[1,2,5]}},\"formatter\":{\"type\":\"object\",\"name\":\"BasicTickFormatter\",\"id\":\"p3841\"},\"major_label_policy\":{\"type\":\"object\",\"name\":\"AllLabels\",\"id\":\"p3842\"}}}}}]}}]}};\n",
       "  const render_items = [{\"docid\":\"0291470d-3605-41fc-803c-658657d03d0b\",\"roots\":{\"p3821\":\"ed97c79c-8a71-4d01-b7c5-312e6d5fd894\"},\"root_ids\":[\"p3821\"]}];\n",
       "  void root.Bokeh.embed.embed_items_notebook(docs_json, render_items);\n",
       "  }\n",
       "  if (root.Bokeh !== undefined) {\n",
       "    embed_document(root);\n",
       "  } else {\n",
       "    let attempts = 0;\n",
       "    const timer = setInterval(function(root) {\n",
       "      if (root.Bokeh !== undefined) {\n",
       "        clearInterval(timer);\n",
       "        embed_document(root);\n",
       "      } else {\n",
       "        attempts++;\n",
       "        if (attempts > 100) {\n",
       "          clearInterval(timer);\n",
       "          console.log(\"Bokeh: ERROR: Unable to run BokehJS code because BokehJS library is missing\");\n",
       "        }\n",
       "      }\n",
       "    }, 10, root)\n",
       "  }\n",
       "})(window);"
      ],
      "application/vnd.bokehjs_exec.v0+json": ""
     },
     "metadata": {
      "application/vnd.bokehjs_exec.v0+json": {
       "id": "p3821"
      }
     },
     "output_type": "display_data"
    }
   ],
   "source": [
    "show(radial_plot(df))"
   ]
  },
  {
   "cell_type": "code",
   "execution_count": 47,
   "id": "5316e03c-0875-4b8a-a7de-7acfb89b8507",
   "metadata": {},
   "outputs": [
    {
     "data": {
      "text/html": [
       "\n",
       "  <div id=\"c4be665f-abd5-4d6a-bc50-c4035a778fea\" data-root-id=\"p2224\" style=\"display: contents;\"></div>\n"
      ]
     },
     "metadata": {},
     "output_type": "display_data"
    },
    {
     "data": {
      "application/javascript": [
       "(function(root) {\n",
       "  function embed_document(root) {\n",
       "  const docs_json = {\"313ef871-10c6-4ba9-a678-f9f87e4bd036\":{\"version\":\"3.4.0\",\"title\":\"Bokeh Application\",\"roots\":[{\"type\":\"object\",\"name\":\"Figure\",\"id\":\"p2224\",\"attributes\":{\"width\":400,\"height\":400,\"x_range\":{\"type\":\"object\",\"name\":\"Range1d\",\"id\":\"p2233\",\"attributes\":{\"start\":-0.6,\"end\":0.6}},\"y_range\":{\"type\":\"object\",\"name\":\"Range1d\",\"id\":\"p2234\",\"attributes\":{\"start\":-0.6,\"end\":0.6}},\"x_scale\":{\"type\":\"object\",\"name\":\"LinearScale\",\"id\":\"p2235\"},\"y_scale\":{\"type\":\"object\",\"name\":\"LinearScale\",\"id\":\"p2236\"},\"title\":null,\"renderers\":[{\"type\":\"object\",\"name\":\"GlyphRenderer\",\"id\":\"p2267\",\"attributes\":{\"data_source\":{\"type\":\"object\",\"name\":\"ColumnDataSource\",\"id\":\"p2258\",\"attributes\":{\"selected\":{\"type\":\"object\",\"name\":\"Selection\",\"id\":\"p2259\",\"attributes\":{\"indices\":[],\"line_indices\":[]}},\"selection_policy\":{\"type\":\"object\",\"name\":\"UnionRenderers\",\"id\":\"p2260\"},\"data\":{\"type\":\"map\",\"entries\":[[\"index\",{\"type\":\"ndarray\",\"array\":{\"type\":\"bytes\",\"data\":\"AQAAAAMAAAAFAAAABgAAAAgAAAAKAAAACwAAAA==\"},\"shape\":[7],\"dtype\":\"int32\",\"order\":\"little\"}],[\"name\",{\"type\":\"ndarray\",\"array\":[\"g\",\"a\",\"b\",\"c\",\"d\",\"e\",\"f\"],\"shape\":[7],\"dtype\":\"object\",\"order\":\"little\"}],[\"note_frequency_Hz\",{\"type\":\"ndarray\",\"array\":{\"type\":\"bytes\",\"data\":\"AAAAAACAaEAAAAAAAIBrQK5H4XoU3m5ArkfhehRacEDD9Shcj1pyQK5H4XoUmnRASOF6FK7TdUA=\"},\"shape\":[7],\"dtype\":\"float64\",\"order\":\"little\"}],[\"light_frequency_THz\",{\"type\":\"ndarray\",\"array\":{\"type\":\"bytes\",\"data\":\"ak7ODSPwekBN6gbWjzx+QEj9WOQ2+IBA9xJAxaT6gUAA+AoRHy6EQCNFkIvppoZAD8kNGbj/h0A=\"},\"shape\":[7],\"dtype\":\"float64\",\"order\":\"little\"}],[\"color\",{\"type\":\"ndarray\",\"array\":[[207.6224790905554,0.0,0.0,1.0],[255.0,159.14996191897876,0.0,1.0],[197.7024800405969,255.0,0.0,1.0],[101.44624977690603,255.0,0.0,1.0],[0.0,177.56414477967783,255.0,1.0],[140.73130645437251,0.0,212.09777505838335,1.0],[150.47814459566175,0.0,165.4582127824298,1.0]],\"shape\":[7],\"dtype\":\"object\",\"order\":\"little\"}],[\"text_x\",{\"type\":\"ndarray\",\"array\":{\"type\":\"bytes\",\"data\":\"sOWSh8+23z/fsrX5uFS/P8y4Zixk8tW/mpmZmZmZ4b/PuGYsZPLVv9Wytfm4VL8/r+WSh8+23z8=\"},\"shape\":[7],\"dtype\":\"float64\",\"order\":\"little\"}],[\"text_y\",{\"type\":\"ndarray\",\"array\":{\"type\":\"bytes\",\"data\":\"7zwwVaCLzj9hgIqcoijhPyEOIGc9hds/b5jJ0fZpkzwfDiBnPYXbv2GAipyiKOG/8jwwVaCLzr8=\"},\"shape\":[7],\"dtype\":\"float64\",\"order\":\"little\"}],[\"start_angle\",{\"type\":\"ndarray\",\"array\":{\"type\":\"bytes\",\"data\":\"AAAAAAAAAABAobs7H7nsP0Chuzsfufw/8LjMbNeKBUBAobs7H7kMQMhEVYWz8xFA8LjMbNeKFUA=\"},\"shape\":[7],\"dtype\":\"float64\",\"order\":\"little\"}],[\"end_angle\",{\"type\":\"ndarray\",\"array\":{\"type\":\"bytes\",\"data\":\"QKG7Ox+57D9Aobs7H7n8P/C4zGzXigVAQKG7Ox+5DEDIRFWFs/MRQPC4zGzXihVAGC1EVPshGUA=\"},\"shape\":[7],\"dtype\":\"float64\",\"order\":\"little\"}]]}}},\"view\":{\"type\":\"object\",\"name\":\"CDSView\",\"id\":\"p2268\",\"attributes\":{\"filter\":{\"type\":\"object\",\"name\":\"AllIndices\",\"id\":\"p2269\"}}},\"glyph\":{\"type\":\"object\",\"name\":\"AnnularWedge\",\"id\":\"p2264\",\"attributes\":{\"x\":{\"type\":\"value\",\"value\":0},\"y\":{\"type\":\"value\",\"value\":0},\"inner_radius\":{\"type\":\"value\",\"value\":0},\"outer_radius\":{\"type\":\"value\",\"value\":0.5},\"start_angle\":{\"type\":\"field\",\"field\":\"start_angle\"},\"end_angle\":{\"type\":\"field\",\"field\":\"end_angle\"},\"line_color\":{\"type\":\"field\",\"field\":\"color\"},\"fill_color\":{\"type\":\"field\",\"field\":\"color\"},\"hatch_color\":{\"type\":\"field\",\"field\":\"color\"}}},\"nonselection_glyph\":{\"type\":\"object\",\"name\":\"AnnularWedge\",\"id\":\"p2265\",\"attributes\":{\"x\":{\"type\":\"value\",\"value\":0},\"y\":{\"type\":\"value\",\"value\":0},\"inner_radius\":{\"type\":\"value\",\"value\":0},\"outer_radius\":{\"type\":\"value\",\"value\":0.5},\"start_angle\":{\"type\":\"field\",\"field\":\"start_angle\"},\"end_angle\":{\"type\":\"field\",\"field\":\"end_angle\"},\"line_color\":{\"type\":\"field\",\"field\":\"color\"},\"line_alpha\":{\"type\":\"value\",\"value\":0.1},\"fill_color\":{\"type\":\"field\",\"field\":\"color\"},\"fill_alpha\":{\"type\":\"value\",\"value\":0.1},\"hatch_color\":{\"type\":\"field\",\"field\":\"color\"},\"hatch_alpha\":{\"type\":\"value\",\"value\":0.1}}},\"muted_glyph\":{\"type\":\"object\",\"name\":\"AnnularWedge\",\"id\":\"p2266\",\"attributes\":{\"x\":{\"type\":\"value\",\"value\":0},\"y\":{\"type\":\"value\",\"value\":0},\"inner_radius\":{\"type\":\"value\",\"value\":0},\"outer_radius\":{\"type\":\"value\",\"value\":0.5},\"start_angle\":{\"type\":\"field\",\"field\":\"start_angle\"},\"end_angle\":{\"type\":\"field\",\"field\":\"end_angle\"},\"line_color\":{\"type\":\"field\",\"field\":\"color\"},\"line_alpha\":{\"type\":\"value\",\"value\":0.2},\"fill_color\":{\"type\":\"field\",\"field\":\"color\"},\"fill_alpha\":{\"type\":\"value\",\"value\":0.2},\"hatch_color\":{\"type\":\"field\",\"field\":\"color\"},\"hatch_alpha\":{\"type\":\"value\",\"value\":0.2}}}}},{\"type\":\"object\",\"name\":\"GlyphRenderer\",\"id\":\"p2279\",\"attributes\":{\"data_source\":{\"type\":\"object\",\"name\":\"ColumnDataSource\",\"id\":\"p2270\",\"attributes\":{\"selected\":{\"type\":\"object\",\"name\":\"Selection\",\"id\":\"p2271\",\"attributes\":{\"indices\":[],\"line_indices\":[]}},\"selection_policy\":{\"type\":\"object\",\"name\":\"UnionRenderers\",\"id\":\"p2272\"},\"data\":{\"type\":\"map\",\"entries\":[[\"index\",{\"type\":\"ndarray\",\"array\":{\"type\":\"bytes\",\"data\":\"AQAAAAMAAAAFAAAABgAAAAgAAAAKAAAACwAAAA==\"},\"shape\":[7],\"dtype\":\"int32\",\"order\":\"little\"}],[\"name\",{\"type\":\"ndarray\",\"array\":[\"g\",\"a\",\"b\",\"c\",\"d\",\"e\",\"f\"],\"shape\":[7],\"dtype\":\"object\",\"order\":\"little\"}],[\"note_frequency_Hz\",{\"type\":\"ndarray\",\"array\":{\"type\":\"bytes\",\"data\":\"AAAAAACAaEAAAAAAAIBrQK5H4XoU3m5ArkfhehRacEDD9Shcj1pyQK5H4XoUmnRASOF6FK7TdUA=\"},\"shape\":[7],\"dtype\":\"float64\",\"order\":\"little\"}],[\"light_frequency_THz\",{\"type\":\"ndarray\",\"array\":{\"type\":\"bytes\",\"data\":\"ak7ODSPwekBN6gbWjzx+QEj9WOQ2+IBA9xJAxaT6gUAA+AoRHy6EQCNFkIvppoZAD8kNGbj/h0A=\"},\"shape\":[7],\"dtype\":\"float64\",\"order\":\"little\"}],[\"color\",{\"type\":\"ndarray\",\"array\":[[207.6224790905554,0.0,0.0,1.0],[255.0,159.14996191897876,0.0,1.0],[197.7024800405969,255.0,0.0,1.0],[101.44624977690603,255.0,0.0,1.0],[0.0,177.56414477967783,255.0,1.0],[140.73130645437251,0.0,212.09777505838335,1.0],[150.47814459566175,0.0,165.4582127824298,1.0]],\"shape\":[7],\"dtype\":\"object\",\"order\":\"little\"}],[\"text_x\",{\"type\":\"ndarray\",\"array\":{\"type\":\"bytes\",\"data\":\"sOWSh8+23z/fsrX5uFS/P8y4Zixk8tW/mpmZmZmZ4b/PuGYsZPLVv9Wytfm4VL8/r+WSh8+23z8=\"},\"shape\":[7],\"dtype\":\"float64\",\"order\":\"little\"}],[\"text_y\",{\"type\":\"ndarray\",\"array\":{\"type\":\"bytes\",\"data\":\"7zwwVaCLzj9hgIqcoijhPyEOIGc9hds/b5jJ0fZpkzwfDiBnPYXbv2GAipyiKOG/8jwwVaCLzr8=\"},\"shape\":[7],\"dtype\":\"float64\",\"order\":\"little\"}],[\"start_angle\",{\"type\":\"ndarray\",\"array\":{\"type\":\"bytes\",\"data\":\"AAAAAAAAAABAobs7H7nsP0Chuzsfufw/8LjMbNeKBUBAobs7H7kMQMhEVYWz8xFA8LjMbNeKFUA=\"},\"shape\":[7],\"dtype\":\"float64\",\"order\":\"little\"}],[\"end_angle\",{\"type\":\"ndarray\",\"array\":{\"type\":\"bytes\",\"data\":\"QKG7Ox+57D9Aobs7H7n8P/C4zGzXigVAQKG7Ox+5DEDIRFWFs/MRQPC4zGzXihVAGC1EVPshGUA=\"},\"shape\":[7],\"dtype\":\"float64\",\"order\":\"little\"}]]}}},\"view\":{\"type\":\"object\",\"name\":\"CDSView\",\"id\":\"p2280\",\"attributes\":{\"filter\":{\"type\":\"object\",\"name\":\"AllIndices\",\"id\":\"p2281\"}}},\"glyph\":{\"type\":\"object\",\"name\":\"Text\",\"id\":\"p2276\",\"attributes\":{\"x\":{\"type\":\"field\",\"field\":\"text_x\"},\"y\":{\"type\":\"field\",\"field\":\"text_y\"},\"text\":{\"type\":\"field\",\"field\":\"name\"},\"text_color\":{\"type\":\"value\",\"value\":\"black\"},\"text_font_style\":{\"type\":\"value\",\"value\":\"bold\"},\"text_align\":{\"type\":\"value\",\"value\":\"center\"}}},\"nonselection_glyph\":{\"type\":\"object\",\"name\":\"Text\",\"id\":\"p2277\",\"attributes\":{\"x\":{\"type\":\"field\",\"field\":\"text_x\"},\"y\":{\"type\":\"field\",\"field\":\"text_y\"},\"text\":{\"type\":\"field\",\"field\":\"name\"},\"text_color\":{\"type\":\"value\",\"value\":\"black\"},\"text_alpha\":{\"type\":\"value\",\"value\":0.1},\"text_font_style\":{\"type\":\"value\",\"value\":\"bold\"},\"text_align\":{\"type\":\"value\",\"value\":\"center\"}}},\"muted_glyph\":{\"type\":\"object\",\"name\":\"Text\",\"id\":\"p2278\",\"attributes\":{\"x\":{\"type\":\"field\",\"field\":\"text_x\"},\"y\":{\"type\":\"field\",\"field\":\"text_y\"},\"text\":{\"type\":\"field\",\"field\":\"name\"},\"text_color\":{\"type\":\"value\",\"value\":\"black\"},\"text_alpha\":{\"type\":\"value\",\"value\":0.2},\"text_font_style\":{\"type\":\"value\",\"value\":\"bold\"},\"text_align\":{\"type\":\"value\",\"value\":\"center\"}}}}}],\"toolbar\":{\"type\":\"object\",\"name\":\"Toolbar\",\"id\":\"p2232\",\"attributes\":{\"tools\":[{\"type\":\"object\",\"name\":\"PanTool\",\"id\":\"p2247\"},{\"type\":\"object\",\"name\":\"WheelZoomTool\",\"id\":\"p2248\",\"attributes\":{\"renderers\":\"auto\"}},{\"type\":\"object\",\"name\":\"BoxZoomTool\",\"id\":\"p2249\",\"attributes\":{\"overlay\":{\"type\":\"object\",\"name\":\"BoxAnnotation\",\"id\":\"p2250\",\"attributes\":{\"syncable\":false,\"level\":\"overlay\",\"visible\":false,\"left\":{\"type\":\"number\",\"value\":\"nan\"},\"right\":{\"type\":\"number\",\"value\":\"nan\"},\"top\":{\"type\":\"number\",\"value\":\"nan\"},\"bottom\":{\"type\":\"number\",\"value\":\"nan\"},\"left_units\":\"canvas\",\"right_units\":\"canvas\",\"top_units\":\"canvas\",\"bottom_units\":\"canvas\",\"line_color\":\"black\",\"line_alpha\":1.0,\"line_width\":2,\"line_dash\":[4,4],\"fill_color\":\"lightgrey\",\"fill_alpha\":0.5}}}},{\"type\":\"object\",\"name\":\"SaveTool\",\"id\":\"p2255\"},{\"type\":\"object\",\"name\":\"ResetTool\",\"id\":\"p2256\"},{\"type\":\"object\",\"name\":\"HelpTool\",\"id\":\"p2257\"}]}},\"toolbar_location\":null,\"center\":[{\"type\":\"object\",\"name\":\"Grid\",\"id\":\"p2241\",\"attributes\":{\"axis\":{\"type\":\"object\",\"name\":\"LinearAxis\",\"id\":\"p2237\",\"attributes\":{\"ticker\":{\"type\":\"object\",\"name\":\"BasicTicker\",\"id\":\"p2238\",\"attributes\":{\"mantissas\":[1,2,5]}},\"formatter\":{\"type\":\"object\",\"name\":\"BasicTickFormatter\",\"id\":\"p2239\"},\"major_label_policy\":{\"type\":\"object\",\"name\":\"AllLabels\",\"id\":\"p2240\"}}}}},{\"type\":\"object\",\"name\":\"Grid\",\"id\":\"p2246\",\"attributes\":{\"dimension\":1,\"axis\":{\"type\":\"object\",\"name\":\"LinearAxis\",\"id\":\"p2242\",\"attributes\":{\"ticker\":{\"type\":\"object\",\"name\":\"BasicTicker\",\"id\":\"p2243\",\"attributes\":{\"mantissas\":[1,2,5]}},\"formatter\":{\"type\":\"object\",\"name\":\"BasicTickFormatter\",\"id\":\"p2244\"},\"major_label_policy\":{\"type\":\"object\",\"name\":\"AllLabels\",\"id\":\"p2245\"}}}}}]}}]}};\n",
       "  const render_items = [{\"docid\":\"313ef871-10c6-4ba9-a678-f9f87e4bd036\",\"roots\":{\"p2224\":\"c4be665f-abd5-4d6a-bc50-c4035a778fea\"},\"root_ids\":[\"p2224\"]}];\n",
       "  void root.Bokeh.embed.embed_items_notebook(docs_json, render_items);\n",
       "  }\n",
       "  if (root.Bokeh !== undefined) {\n",
       "    embed_document(root);\n",
       "  } else {\n",
       "    let attempts = 0;\n",
       "    const timer = setInterval(function(root) {\n",
       "      if (root.Bokeh !== undefined) {\n",
       "        clearInterval(timer);\n",
       "        embed_document(root);\n",
       "      } else {\n",
       "        attempts++;\n",
       "        if (attempts > 100) {\n",
       "          clearInterval(timer);\n",
       "          console.log(\"Bokeh: ERROR: Unable to run BokehJS code because BokehJS library is missing\");\n",
       "        }\n",
       "      }\n",
       "    }, 10, root)\n",
       "  }\n",
       "})(window);"
      ],
      "application/vnd.bokehjs_exec.v0+json": ""
     },
     "metadata": {
      "application/vnd.bokehjs_exec.v0+json": {
       "id": "p2224"
      }
     },
     "output_type": "display_data"
    }
   ],
   "source": [
    "show(radial_plot(df.loc[df['name'].isin(['g', 'a', 'b', 'c', 'd', 'e', 'f'])].copy()))"
   ]
  },
  {
   "cell_type": "code",
   "execution_count": 50,
   "id": "68c3a01a-9a49-4a39-ac5e-2c313583b6e4",
   "metadata": {},
   "outputs": [
    {
     "data": {
      "text/html": [
       "\n",
       "  <div id=\"c0645588-30b0-418b-9576-cc2e6776e33e\" data-root-id=\"p2442\" style=\"display: contents;\"></div>\n"
      ]
     },
     "metadata": {},
     "output_type": "display_data"
    },
    {
     "data": {
      "application/javascript": [
       "(function(root) {\n",
       "  function embed_document(root) {\n",
       "  const docs_json = {\"dd3577c1-64f6-43ef-a02b-c107d78ad733\":{\"version\":\"3.4.0\",\"title\":\"Bokeh Application\",\"roots\":[{\"type\":\"object\",\"name\":\"Figure\",\"id\":\"p2442\",\"attributes\":{\"width\":400,\"height\":400,\"x_range\":{\"type\":\"object\",\"name\":\"Range1d\",\"id\":\"p2451\",\"attributes\":{\"start\":-0.6,\"end\":0.6}},\"y_range\":{\"type\":\"object\",\"name\":\"Range1d\",\"id\":\"p2452\",\"attributes\":{\"start\":-0.6,\"end\":0.6}},\"x_scale\":{\"type\":\"object\",\"name\":\"LinearScale\",\"id\":\"p2453\"},\"y_scale\":{\"type\":\"object\",\"name\":\"LinearScale\",\"id\":\"p2454\"},\"title\":null,\"renderers\":[{\"type\":\"object\",\"name\":\"GlyphRenderer\",\"id\":\"p2485\",\"attributes\":{\"data_source\":{\"type\":\"object\",\"name\":\"ColumnDataSource\",\"id\":\"p2476\",\"attributes\":{\"selected\":{\"type\":\"object\",\"name\":\"Selection\",\"id\":\"p2477\",\"attributes\":{\"indices\":[],\"line_indices\":[]}},\"selection_policy\":{\"type\":\"object\",\"name\":\"UnionRenderers\",\"id\":\"p2478\"},\"data\":{\"type\":\"map\",\"entries\":[[\"index\",{\"type\":\"ndarray\",\"array\":{\"type\":\"bytes\",\"data\":\"AQAAAAYAAAAIAAAA\"},\"shape\":[3],\"dtype\":\"int32\",\"order\":\"little\"}],[\"name\",{\"type\":\"ndarray\",\"array\":[\"g\",\"c\",\"d\"],\"shape\":[3],\"dtype\":\"object\",\"order\":\"little\"}],[\"note_frequency_Hz\",{\"type\":\"ndarray\",\"array\":{\"type\":\"bytes\",\"data\":\"AAAAAACAaECuR+F6FFpwQMP1KFyPWnJA\"},\"shape\":[3],\"dtype\":\"float64\",\"order\":\"little\"}],[\"light_frequency_THz\",{\"type\":\"ndarray\",\"array\":{\"type\":\"bytes\",\"data\":\"ak7ODSPwekD3EkDFpPqBQAD4ChEfLoRA\"},\"shape\":[3],\"dtype\":\"float64\",\"order\":\"little\"}],[\"color\",{\"type\":\"ndarray\",\"array\":[[207.6224790905554,0.0,0.0,1.0],[101.44624977690603,255.0,0.0,1.0],[0.0,177.56414477967783,255.0,1.0]],\"shape\":[3],\"dtype\":\"object\",\"order\":\"little\"}],[\"text_x\",{\"type\":\"ndarray\",\"array\":{\"type\":\"bytes\",\"data\":\"m5mZmZmZ0T+amZmZmZnhv5OZmZmZmdE/\"},\"shape\":[3],\"dtype\":\"float64\",\"order\":\"little\"}],[\"text_y\",{\"type\":\"ndarray\",\"array\":{\"type\":\"bytes\",\"data\":\"7+0tme173j9vmMnR9mmTPPPtLZnte96/\"},\"shape\":[3],\"dtype\":\"float64\",\"order\":\"little\"}],[\"start_angle\",{\"type\":\"ndarray\",\"array\":{\"type\":\"bytes\",\"data\":\"AAAAAAAAAABlcy04UsEAQGVzLThSwRBA\"},\"shape\":[3],\"dtype\":\"float64\",\"order\":\"little\"}],[\"end_angle\",{\"type\":\"ndarray\",\"array\":{\"type\":\"bytes\",\"data\":\"ZXMtOFLBAEBlcy04UsEQQBgtRFT7IRlA\"},\"shape\":[3],\"dtype\":\"float64\",\"order\":\"little\"}]]}}},\"view\":{\"type\":\"object\",\"name\":\"CDSView\",\"id\":\"p2486\",\"attributes\":{\"filter\":{\"type\":\"object\",\"name\":\"AllIndices\",\"id\":\"p2487\"}}},\"glyph\":{\"type\":\"object\",\"name\":\"AnnularWedge\",\"id\":\"p2482\",\"attributes\":{\"x\":{\"type\":\"value\",\"value\":0},\"y\":{\"type\":\"value\",\"value\":0},\"inner_radius\":{\"type\":\"value\",\"value\":0},\"outer_radius\":{\"type\":\"value\",\"value\":0.5},\"start_angle\":{\"type\":\"field\",\"field\":\"start_angle\"},\"end_angle\":{\"type\":\"field\",\"field\":\"end_angle\"},\"line_color\":{\"type\":\"field\",\"field\":\"color\"},\"fill_color\":{\"type\":\"field\",\"field\":\"color\"},\"hatch_color\":{\"type\":\"field\",\"field\":\"color\"}}},\"nonselection_glyph\":{\"type\":\"object\",\"name\":\"AnnularWedge\",\"id\":\"p2483\",\"attributes\":{\"x\":{\"type\":\"value\",\"value\":0},\"y\":{\"type\":\"value\",\"value\":0},\"inner_radius\":{\"type\":\"value\",\"value\":0},\"outer_radius\":{\"type\":\"value\",\"value\":0.5},\"start_angle\":{\"type\":\"field\",\"field\":\"start_angle\"},\"end_angle\":{\"type\":\"field\",\"field\":\"end_angle\"},\"line_color\":{\"type\":\"field\",\"field\":\"color\"},\"line_alpha\":{\"type\":\"value\",\"value\":0.1},\"fill_color\":{\"type\":\"field\",\"field\":\"color\"},\"fill_alpha\":{\"type\":\"value\",\"value\":0.1},\"hatch_color\":{\"type\":\"field\",\"field\":\"color\"},\"hatch_alpha\":{\"type\":\"value\",\"value\":0.1}}},\"muted_glyph\":{\"type\":\"object\",\"name\":\"AnnularWedge\",\"id\":\"p2484\",\"attributes\":{\"x\":{\"type\":\"value\",\"value\":0},\"y\":{\"type\":\"value\",\"value\":0},\"inner_radius\":{\"type\":\"value\",\"value\":0},\"outer_radius\":{\"type\":\"value\",\"value\":0.5},\"start_angle\":{\"type\":\"field\",\"field\":\"start_angle\"},\"end_angle\":{\"type\":\"field\",\"field\":\"end_angle\"},\"line_color\":{\"type\":\"field\",\"field\":\"color\"},\"line_alpha\":{\"type\":\"value\",\"value\":0.2},\"fill_color\":{\"type\":\"field\",\"field\":\"color\"},\"fill_alpha\":{\"type\":\"value\",\"value\":0.2},\"hatch_color\":{\"type\":\"field\",\"field\":\"color\"},\"hatch_alpha\":{\"type\":\"value\",\"value\":0.2}}}}},{\"type\":\"object\",\"name\":\"GlyphRenderer\",\"id\":\"p2497\",\"attributes\":{\"data_source\":{\"type\":\"object\",\"name\":\"ColumnDataSource\",\"id\":\"p2488\",\"attributes\":{\"selected\":{\"type\":\"object\",\"name\":\"Selection\",\"id\":\"p2489\",\"attributes\":{\"indices\":[],\"line_indices\":[]}},\"selection_policy\":{\"type\":\"object\",\"name\":\"UnionRenderers\",\"id\":\"p2490\"},\"data\":{\"type\":\"map\",\"entries\":[[\"index\",{\"type\":\"ndarray\",\"array\":{\"type\":\"bytes\",\"data\":\"AQAAAAYAAAAIAAAA\"},\"shape\":[3],\"dtype\":\"int32\",\"order\":\"little\"}],[\"name\",{\"type\":\"ndarray\",\"array\":[\"g\",\"c\",\"d\"],\"shape\":[3],\"dtype\":\"object\",\"order\":\"little\"}],[\"note_frequency_Hz\",{\"type\":\"ndarray\",\"array\":{\"type\":\"bytes\",\"data\":\"AAAAAACAaECuR+F6FFpwQMP1KFyPWnJA\"},\"shape\":[3],\"dtype\":\"float64\",\"order\":\"little\"}],[\"light_frequency_THz\",{\"type\":\"ndarray\",\"array\":{\"type\":\"bytes\",\"data\":\"ak7ODSPwekD3EkDFpPqBQAD4ChEfLoRA\"},\"shape\":[3],\"dtype\":\"float64\",\"order\":\"little\"}],[\"color\",{\"type\":\"ndarray\",\"array\":[[207.6224790905554,0.0,0.0,1.0],[101.44624977690603,255.0,0.0,1.0],[0.0,177.56414477967783,255.0,1.0]],\"shape\":[3],\"dtype\":\"object\",\"order\":\"little\"}],[\"text_x\",{\"type\":\"ndarray\",\"array\":{\"type\":\"bytes\",\"data\":\"m5mZmZmZ0T+amZmZmZnhv5OZmZmZmdE/\"},\"shape\":[3],\"dtype\":\"float64\",\"order\":\"little\"}],[\"text_y\",{\"type\":\"ndarray\",\"array\":{\"type\":\"bytes\",\"data\":\"7+0tme173j9vmMnR9mmTPPPtLZnte96/\"},\"shape\":[3],\"dtype\":\"float64\",\"order\":\"little\"}],[\"start_angle\",{\"type\":\"ndarray\",\"array\":{\"type\":\"bytes\",\"data\":\"AAAAAAAAAABlcy04UsEAQGVzLThSwRBA\"},\"shape\":[3],\"dtype\":\"float64\",\"order\":\"little\"}],[\"end_angle\",{\"type\":\"ndarray\",\"array\":{\"type\":\"bytes\",\"data\":\"ZXMtOFLBAEBlcy04UsEQQBgtRFT7IRlA\"},\"shape\":[3],\"dtype\":\"float64\",\"order\":\"little\"}]]}}},\"view\":{\"type\":\"object\",\"name\":\"CDSView\",\"id\":\"p2498\",\"attributes\":{\"filter\":{\"type\":\"object\",\"name\":\"AllIndices\",\"id\":\"p2499\"}}},\"glyph\":{\"type\":\"object\",\"name\":\"Text\",\"id\":\"p2494\",\"attributes\":{\"x\":{\"type\":\"field\",\"field\":\"text_x\"},\"y\":{\"type\":\"field\",\"field\":\"text_y\"},\"text\":{\"type\":\"field\",\"field\":\"name\"},\"text_color\":{\"type\":\"value\",\"value\":\"black\"},\"text_font_style\":{\"type\":\"value\",\"value\":\"bold\"},\"text_align\":{\"type\":\"value\",\"value\":\"center\"}}},\"nonselection_glyph\":{\"type\":\"object\",\"name\":\"Text\",\"id\":\"p2495\",\"attributes\":{\"x\":{\"type\":\"field\",\"field\":\"text_x\"},\"y\":{\"type\":\"field\",\"field\":\"text_y\"},\"text\":{\"type\":\"field\",\"field\":\"name\"},\"text_color\":{\"type\":\"value\",\"value\":\"black\"},\"text_alpha\":{\"type\":\"value\",\"value\":0.1},\"text_font_style\":{\"type\":\"value\",\"value\":\"bold\"},\"text_align\":{\"type\":\"value\",\"value\":\"center\"}}},\"muted_glyph\":{\"type\":\"object\",\"name\":\"Text\",\"id\":\"p2496\",\"attributes\":{\"x\":{\"type\":\"field\",\"field\":\"text_x\"},\"y\":{\"type\":\"field\",\"field\":\"text_y\"},\"text\":{\"type\":\"field\",\"field\":\"name\"},\"text_color\":{\"type\":\"value\",\"value\":\"black\"},\"text_alpha\":{\"type\":\"value\",\"value\":0.2},\"text_font_style\":{\"type\":\"value\",\"value\":\"bold\"},\"text_align\":{\"type\":\"value\",\"value\":\"center\"}}}}}],\"toolbar\":{\"type\":\"object\",\"name\":\"Toolbar\",\"id\":\"p2450\",\"attributes\":{\"tools\":[{\"type\":\"object\",\"name\":\"PanTool\",\"id\":\"p2465\"},{\"type\":\"object\",\"name\":\"WheelZoomTool\",\"id\":\"p2466\",\"attributes\":{\"renderers\":\"auto\"}},{\"type\":\"object\",\"name\":\"BoxZoomTool\",\"id\":\"p2467\",\"attributes\":{\"overlay\":{\"type\":\"object\",\"name\":\"BoxAnnotation\",\"id\":\"p2468\",\"attributes\":{\"syncable\":false,\"level\":\"overlay\",\"visible\":false,\"left\":{\"type\":\"number\",\"value\":\"nan\"},\"right\":{\"type\":\"number\",\"value\":\"nan\"},\"top\":{\"type\":\"number\",\"value\":\"nan\"},\"bottom\":{\"type\":\"number\",\"value\":\"nan\"},\"left_units\":\"canvas\",\"right_units\":\"canvas\",\"top_units\":\"canvas\",\"bottom_units\":\"canvas\",\"line_color\":\"black\",\"line_alpha\":1.0,\"line_width\":2,\"line_dash\":[4,4],\"fill_color\":\"lightgrey\",\"fill_alpha\":0.5}}}},{\"type\":\"object\",\"name\":\"SaveTool\",\"id\":\"p2473\"},{\"type\":\"object\",\"name\":\"ResetTool\",\"id\":\"p2474\"},{\"type\":\"object\",\"name\":\"HelpTool\",\"id\":\"p2475\"}]}},\"toolbar_location\":null,\"center\":[{\"type\":\"object\",\"name\":\"Grid\",\"id\":\"p2459\",\"attributes\":{\"axis\":{\"type\":\"object\",\"name\":\"LinearAxis\",\"id\":\"p2455\",\"attributes\":{\"ticker\":{\"type\":\"object\",\"name\":\"BasicTicker\",\"id\":\"p2456\",\"attributes\":{\"mantissas\":[1,2,5]}},\"formatter\":{\"type\":\"object\",\"name\":\"BasicTickFormatter\",\"id\":\"p2457\"},\"major_label_policy\":{\"type\":\"object\",\"name\":\"AllLabels\",\"id\":\"p2458\"}}}}},{\"type\":\"object\",\"name\":\"Grid\",\"id\":\"p2464\",\"attributes\":{\"dimension\":1,\"axis\":{\"type\":\"object\",\"name\":\"LinearAxis\",\"id\":\"p2460\",\"attributes\":{\"ticker\":{\"type\":\"object\",\"name\":\"BasicTicker\",\"id\":\"p2461\",\"attributes\":{\"mantissas\":[1,2,5]}},\"formatter\":{\"type\":\"object\",\"name\":\"BasicTickFormatter\",\"id\":\"p2462\"},\"major_label_policy\":{\"type\":\"object\",\"name\":\"AllLabels\",\"id\":\"p2463\"}}}}}]}}]}};\n",
       "  const render_items = [{\"docid\":\"dd3577c1-64f6-43ef-a02b-c107d78ad733\",\"roots\":{\"p2442\":\"c0645588-30b0-418b-9576-cc2e6776e33e\"},\"root_ids\":[\"p2442\"]}];\n",
       "  void root.Bokeh.embed.embed_items_notebook(docs_json, render_items);\n",
       "  }\n",
       "  if (root.Bokeh !== undefined) {\n",
       "    embed_document(root);\n",
       "  } else {\n",
       "    let attempts = 0;\n",
       "    const timer = setInterval(function(root) {\n",
       "      if (root.Bokeh !== undefined) {\n",
       "        clearInterval(timer);\n",
       "        embed_document(root);\n",
       "      } else {\n",
       "        attempts++;\n",
       "        if (attempts > 100) {\n",
       "          clearInterval(timer);\n",
       "          console.log(\"Bokeh: ERROR: Unable to run BokehJS code because BokehJS library is missing\");\n",
       "        }\n",
       "      }\n",
       "    }, 10, root)\n",
       "  }\n",
       "})(window);"
      ],
      "application/vnd.bokehjs_exec.v0+json": ""
     },
     "metadata": {
      "application/vnd.bokehjs_exec.v0+json": {
       "id": "p2442"
      }
     },
     "output_type": "display_data"
    }
   ],
   "source": [
    "show(radial_plot(df.loc[df['name'].isin(['g', 'c', 'd'])].copy()))"
   ]
  },
  {
   "cell_type": "code",
   "execution_count": 68,
   "id": "2dad7d6c-47fa-4c9d-a423-21ec8be1e57f",
   "metadata": {},
   "outputs": [
    {
     "data": {
      "text/html": [
       "\n",
       "  <div id=\"d80290e4-be0d-4e05-bdd6-95b01ebb1bb8\" data-root-id=\"p3748\" style=\"display: contents;\"></div>\n"
      ]
     },
     "metadata": {},
     "output_type": "display_data"
    },
    {
     "data": {
      "application/javascript": [
       "(function(root) {\n",
       "  function embed_document(root) {\n",
       "  const docs_json = {\"0e478df8-def3-40cb-afa8-14c75634514d\":{\"version\":\"3.4.0\",\"title\":\"Bokeh Application\",\"roots\":[{\"type\":\"object\",\"name\":\"Figure\",\"id\":\"p3748\",\"attributes\":{\"width\":400,\"height\":400,\"x_range\":{\"type\":\"object\",\"name\":\"Range1d\",\"id\":\"p3758\",\"attributes\":{\"start\":-0.6,\"end\":0.6}},\"y_range\":{\"type\":\"object\",\"name\":\"Range1d\",\"id\":\"p3759\",\"attributes\":{\"start\":-0.6,\"end\":0.6}},\"x_scale\":{\"type\":\"object\",\"name\":\"LinearScale\",\"id\":\"p3760\"},\"y_scale\":{\"type\":\"object\",\"name\":\"LinearScale\",\"id\":\"p3761\"},\"title\":{\"type\":\"object\",\"name\":\"Title\",\"id\":\"p3751\",\"attributes\":{\"text\":\"f third\"}},\"renderers\":[{\"type\":\"object\",\"name\":\"GlyphRenderer\",\"id\":\"p3792\",\"attributes\":{\"data_source\":{\"type\":\"object\",\"name\":\"ColumnDataSource\",\"id\":\"p3783\",\"attributes\":{\"selected\":{\"type\":\"object\",\"name\":\"Selection\",\"id\":\"p3784\",\"attributes\":{\"indices\":[],\"line_indices\":[]}},\"selection_policy\":{\"type\":\"object\",\"name\":\"UnionRenderers\",\"id\":\"p3785\"},\"data\":{\"type\":\"map\",\"entries\":[[\"index\",{\"type\":\"ndarray\",\"array\":{\"type\":\"bytes\",\"data\":\"AwAAAAsAAAA=\"},\"shape\":[2],\"dtype\":\"int32\",\"order\":\"little\"}],[\"name\",{\"type\":\"ndarray\",\"array\":[\"a\",\"f\"],\"shape\":[2],\"dtype\":\"object\",\"order\":\"little\"}],[\"note_frequency_Hz\",{\"type\":\"ndarray\",\"array\":{\"type\":\"bytes\",\"data\":\"AAAAAACAa0BI4XoUrtN1QA==\"},\"shape\":[2],\"dtype\":\"float64\",\"order\":\"little\"}],[\"light_frequency_THz\",{\"type\":\"ndarray\",\"array\":{\"type\":\"bytes\",\"data\":\"TeoG1o88fkAPyQ0ZuP+HQA==\"},\"shape\":[2],\"dtype\":\"float64\",\"order\":\"little\"}],[\"color\",{\"type\":\"ndarray\",\"array\":[[255.0,159.14996191897876,0.0,1.0],[150.47814459566175,0.0,165.4582127824298,1.0]],\"shape\":[2],\"dtype\":\"object\",\"order\":\"little\"}],[\"text_x\",{\"type\":\"ndarray\",\"array\":{\"type\":\"bytes\",\"data\":\"b5jJ0fZpgzylZK468h6dvA==\"},\"shape\":[2],\"dtype\":\"float64\",\"order\":\"little\"}],[\"text_y\",{\"type\":\"ndarray\",\"array\":{\"type\":\"bytes\",\"data\":\"mpmZmZmZ4T+amZmZmZnhvw==\"},\"shape\":[2],\"dtype\":\"float64\",\"order\":\"little\"}],[\"start_angle\",{\"type\":\"ndarray\",\"array\":{\"type\":\"bytes\",\"data\":\"AAAAAAAAAAAYLURU+yEJQA==\"},\"shape\":[2],\"dtype\":\"float64\",\"order\":\"little\"}],[\"end_angle\",{\"type\":\"ndarray\",\"array\":{\"type\":\"bytes\",\"data\":\"GC1EVPshCUAYLURU+yEZQA==\"},\"shape\":[2],\"dtype\":\"float64\",\"order\":\"little\"}]]}}},\"view\":{\"type\":\"object\",\"name\":\"CDSView\",\"id\":\"p3793\",\"attributes\":{\"filter\":{\"type\":\"object\",\"name\":\"AllIndices\",\"id\":\"p3794\"}}},\"glyph\":{\"type\":\"object\",\"name\":\"AnnularWedge\",\"id\":\"p3789\",\"attributes\":{\"x\":{\"type\":\"value\",\"value\":0},\"y\":{\"type\":\"value\",\"value\":0},\"inner_radius\":{\"type\":\"value\",\"value\":0},\"outer_radius\":{\"type\":\"value\",\"value\":0.5},\"start_angle\":{\"type\":\"field\",\"field\":\"start_angle\"},\"end_angle\":{\"type\":\"field\",\"field\":\"end_angle\"},\"line_color\":{\"type\":\"field\",\"field\":\"color\"},\"fill_color\":{\"type\":\"field\",\"field\":\"color\"},\"hatch_color\":{\"type\":\"field\",\"field\":\"color\"}}},\"nonselection_glyph\":{\"type\":\"object\",\"name\":\"AnnularWedge\",\"id\":\"p3790\",\"attributes\":{\"x\":{\"type\":\"value\",\"value\":0},\"y\":{\"type\":\"value\",\"value\":0},\"inner_radius\":{\"type\":\"value\",\"value\":0},\"outer_radius\":{\"type\":\"value\",\"value\":0.5},\"start_angle\":{\"type\":\"field\",\"field\":\"start_angle\"},\"end_angle\":{\"type\":\"field\",\"field\":\"end_angle\"},\"line_color\":{\"type\":\"field\",\"field\":\"color\"},\"line_alpha\":{\"type\":\"value\",\"value\":0.1},\"fill_color\":{\"type\":\"field\",\"field\":\"color\"},\"fill_alpha\":{\"type\":\"value\",\"value\":0.1},\"hatch_color\":{\"type\":\"field\",\"field\":\"color\"},\"hatch_alpha\":{\"type\":\"value\",\"value\":0.1}}},\"muted_glyph\":{\"type\":\"object\",\"name\":\"AnnularWedge\",\"id\":\"p3791\",\"attributes\":{\"x\":{\"type\":\"value\",\"value\":0},\"y\":{\"type\":\"value\",\"value\":0},\"inner_radius\":{\"type\":\"value\",\"value\":0},\"outer_radius\":{\"type\":\"value\",\"value\":0.5},\"start_angle\":{\"type\":\"field\",\"field\":\"start_angle\"},\"end_angle\":{\"type\":\"field\",\"field\":\"end_angle\"},\"line_color\":{\"type\":\"field\",\"field\":\"color\"},\"line_alpha\":{\"type\":\"value\",\"value\":0.2},\"fill_color\":{\"type\":\"field\",\"field\":\"color\"},\"fill_alpha\":{\"type\":\"value\",\"value\":0.2},\"hatch_color\":{\"type\":\"field\",\"field\":\"color\"},\"hatch_alpha\":{\"type\":\"value\",\"value\":0.2}}}}},{\"type\":\"object\",\"name\":\"GlyphRenderer\",\"id\":\"p3804\",\"attributes\":{\"data_source\":{\"type\":\"object\",\"name\":\"ColumnDataSource\",\"id\":\"p3795\",\"attributes\":{\"selected\":{\"type\":\"object\",\"name\":\"Selection\",\"id\":\"p3796\",\"attributes\":{\"indices\":[],\"line_indices\":[]}},\"selection_policy\":{\"type\":\"object\",\"name\":\"UnionRenderers\",\"id\":\"p3797\"},\"data\":{\"type\":\"map\",\"entries\":[[\"index\",{\"type\":\"ndarray\",\"array\":{\"type\":\"bytes\",\"data\":\"AwAAAAsAAAA=\"},\"shape\":[2],\"dtype\":\"int32\",\"order\":\"little\"}],[\"name\",{\"type\":\"ndarray\",\"array\":[\"a\",\"f\"],\"shape\":[2],\"dtype\":\"object\",\"order\":\"little\"}],[\"note_frequency_Hz\",{\"type\":\"ndarray\",\"array\":{\"type\":\"bytes\",\"data\":\"AAAAAACAa0BI4XoUrtN1QA==\"},\"shape\":[2],\"dtype\":\"float64\",\"order\":\"little\"}],[\"light_frequency_THz\",{\"type\":\"ndarray\",\"array\":{\"type\":\"bytes\",\"data\":\"TeoG1o88fkAPyQ0ZuP+HQA==\"},\"shape\":[2],\"dtype\":\"float64\",\"order\":\"little\"}],[\"color\",{\"type\":\"ndarray\",\"array\":[[255.0,159.14996191897876,0.0,1.0],[150.47814459566175,0.0,165.4582127824298,1.0]],\"shape\":[2],\"dtype\":\"object\",\"order\":\"little\"}],[\"text_x\",{\"type\":\"ndarray\",\"array\":{\"type\":\"bytes\",\"data\":\"b5jJ0fZpgzylZK468h6dvA==\"},\"shape\":[2],\"dtype\":\"float64\",\"order\":\"little\"}],[\"text_y\",{\"type\":\"ndarray\",\"array\":{\"type\":\"bytes\",\"data\":\"mpmZmZmZ4T+amZmZmZnhvw==\"},\"shape\":[2],\"dtype\":\"float64\",\"order\":\"little\"}],[\"start_angle\",{\"type\":\"ndarray\",\"array\":{\"type\":\"bytes\",\"data\":\"AAAAAAAAAAAYLURU+yEJQA==\"},\"shape\":[2],\"dtype\":\"float64\",\"order\":\"little\"}],[\"end_angle\",{\"type\":\"ndarray\",\"array\":{\"type\":\"bytes\",\"data\":\"GC1EVPshCUAYLURU+yEZQA==\"},\"shape\":[2],\"dtype\":\"float64\",\"order\":\"little\"}]]}}},\"view\":{\"type\":\"object\",\"name\":\"CDSView\",\"id\":\"p3805\",\"attributes\":{\"filter\":{\"type\":\"object\",\"name\":\"AllIndices\",\"id\":\"p3806\"}}},\"glyph\":{\"type\":\"object\",\"name\":\"Text\",\"id\":\"p3801\",\"attributes\":{\"x\":{\"type\":\"field\",\"field\":\"text_x\"},\"y\":{\"type\":\"field\",\"field\":\"text_y\"},\"text\":{\"type\":\"field\",\"field\":\"name\"},\"text_color\":{\"type\":\"value\",\"value\":\"black\"},\"text_font_style\":{\"type\":\"value\",\"value\":\"bold\"},\"text_align\":{\"type\":\"value\",\"value\":\"center\"}}},\"nonselection_glyph\":{\"type\":\"object\",\"name\":\"Text\",\"id\":\"p3802\",\"attributes\":{\"x\":{\"type\":\"field\",\"field\":\"text_x\"},\"y\":{\"type\":\"field\",\"field\":\"text_y\"},\"text\":{\"type\":\"field\",\"field\":\"name\"},\"text_color\":{\"type\":\"value\",\"value\":\"black\"},\"text_alpha\":{\"type\":\"value\",\"value\":0.1},\"text_font_style\":{\"type\":\"value\",\"value\":\"bold\"},\"text_align\":{\"type\":\"value\",\"value\":\"center\"}}},\"muted_glyph\":{\"type\":\"object\",\"name\":\"Text\",\"id\":\"p3803\",\"attributes\":{\"x\":{\"type\":\"field\",\"field\":\"text_x\"},\"y\":{\"type\":\"field\",\"field\":\"text_y\"},\"text\":{\"type\":\"field\",\"field\":\"name\"},\"text_color\":{\"type\":\"value\",\"value\":\"black\"},\"text_alpha\":{\"type\":\"value\",\"value\":0.2},\"text_font_style\":{\"type\":\"value\",\"value\":\"bold\"},\"text_align\":{\"type\":\"value\",\"value\":\"center\"}}}}}],\"toolbar\":{\"type\":\"object\",\"name\":\"Toolbar\",\"id\":\"p3757\",\"attributes\":{\"tools\":[{\"type\":\"object\",\"name\":\"PanTool\",\"id\":\"p3772\"},{\"type\":\"object\",\"name\":\"WheelZoomTool\",\"id\":\"p3773\",\"attributes\":{\"renderers\":\"auto\"}},{\"type\":\"object\",\"name\":\"BoxZoomTool\",\"id\":\"p3774\",\"attributes\":{\"overlay\":{\"type\":\"object\",\"name\":\"BoxAnnotation\",\"id\":\"p3775\",\"attributes\":{\"syncable\":false,\"level\":\"overlay\",\"visible\":false,\"left\":{\"type\":\"number\",\"value\":\"nan\"},\"right\":{\"type\":\"number\",\"value\":\"nan\"},\"top\":{\"type\":\"number\",\"value\":\"nan\"},\"bottom\":{\"type\":\"number\",\"value\":\"nan\"},\"left_units\":\"canvas\",\"right_units\":\"canvas\",\"top_units\":\"canvas\",\"bottom_units\":\"canvas\",\"line_color\":\"black\",\"line_alpha\":1.0,\"line_width\":2,\"line_dash\":[4,4],\"fill_color\":\"lightgrey\",\"fill_alpha\":0.5}}}},{\"type\":\"object\",\"name\":\"SaveTool\",\"id\":\"p3780\"},{\"type\":\"object\",\"name\":\"ResetTool\",\"id\":\"p3781\"},{\"type\":\"object\",\"name\":\"HelpTool\",\"id\":\"p3782\"}]}},\"toolbar_location\":null,\"center\":[{\"type\":\"object\",\"name\":\"Grid\",\"id\":\"p3766\",\"attributes\":{\"axis\":{\"type\":\"object\",\"name\":\"LinearAxis\",\"id\":\"p3762\",\"attributes\":{\"ticker\":{\"type\":\"object\",\"name\":\"BasicTicker\",\"id\":\"p3763\",\"attributes\":{\"mantissas\":[1,2,5]}},\"formatter\":{\"type\":\"object\",\"name\":\"BasicTickFormatter\",\"id\":\"p3764\"},\"major_label_policy\":{\"type\":\"object\",\"name\":\"AllLabels\",\"id\":\"p3765\"}}}}},{\"type\":\"object\",\"name\":\"Grid\",\"id\":\"p3771\",\"attributes\":{\"dimension\":1,\"axis\":{\"type\":\"object\",\"name\":\"LinearAxis\",\"id\":\"p3767\",\"attributes\":{\"ticker\":{\"type\":\"object\",\"name\":\"BasicTicker\",\"id\":\"p3768\",\"attributes\":{\"mantissas\":[1,2,5]}},\"formatter\":{\"type\":\"object\",\"name\":\"BasicTickFormatter\",\"id\":\"p3769\"},\"major_label_policy\":{\"type\":\"object\",\"name\":\"AllLabels\",\"id\":\"p3770\"}}}}}]}}]}};\n",
       "  const render_items = [{\"docid\":\"0e478df8-def3-40cb-afa8-14c75634514d\",\"roots\":{\"p3748\":\"d80290e4-be0d-4e05-bdd6-95b01ebb1bb8\"},\"root_ids\":[\"p3748\"]}];\n",
       "  void root.Bokeh.embed.embed_items_notebook(docs_json, render_items);\n",
       "  }\n",
       "  if (root.Bokeh !== undefined) {\n",
       "    embed_document(root);\n",
       "  } else {\n",
       "    let attempts = 0;\n",
       "    const timer = setInterval(function(root) {\n",
       "      if (root.Bokeh !== undefined) {\n",
       "        clearInterval(timer);\n",
       "        embed_document(root);\n",
       "      } else {\n",
       "        attempts++;\n",
       "        if (attempts > 100) {\n",
       "          clearInterval(timer);\n",
       "          console.log(\"Bokeh: ERROR: Unable to run BokehJS code because BokehJS library is missing\");\n",
       "        }\n",
       "      }\n",
       "    }, 10, root)\n",
       "  }\n",
       "})(window);"
      ],
      "application/vnd.bokehjs_exec.v0+json": ""
     },
     "metadata": {
      "application/vnd.bokehjs_exec.v0+json": {
       "id": "p3748"
      }
     },
     "output_type": "display_data"
    }
   ],
   "source": [
    "plot_chord('f', 'third')"
   ]
  },
  {
   "cell_type": "code",
   "execution_count": 58,
   "id": "294f3db2-05ea-4c0f-b8f3-4bf890a083a7",
   "metadata": {},
   "outputs": [
    {
     "data": {
      "text/html": [
       "\n",
       "  <div id=\"e07bfa84-c5a6-482d-a66a-93cf58efe909\" data-root-id=\"p3019\" style=\"display: contents;\"></div>\n"
      ]
     },
     "metadata": {},
     "output_type": "display_data"
    },
    {
     "data": {
      "application/javascript": [
       "(function(root) {\n",
       "  function embed_document(root) {\n",
       "  const docs_json = {\"9735d9b2-1766-4310-a4bd-5042490a7934\":{\"version\":\"3.4.0\",\"title\":\"Bokeh Application\",\"roots\":[{\"type\":\"object\",\"name\":\"Figure\",\"id\":\"p3019\",\"attributes\":{\"width\":400,\"height\":400,\"x_range\":{\"type\":\"object\",\"name\":\"Range1d\",\"id\":\"p3028\",\"attributes\":{\"start\":-0.6,\"end\":0.6}},\"y_range\":{\"type\":\"object\",\"name\":\"Range1d\",\"id\":\"p3029\",\"attributes\":{\"start\":-0.6,\"end\":0.6}},\"x_scale\":{\"type\":\"object\",\"name\":\"LinearScale\",\"id\":\"p3030\"},\"y_scale\":{\"type\":\"object\",\"name\":\"LinearScale\",\"id\":\"p3031\"},\"title\":null,\"renderers\":[{\"type\":\"object\",\"name\":\"GlyphRenderer\",\"id\":\"p3062\",\"attributes\":{\"data_source\":{\"type\":\"object\",\"name\":\"ColumnDataSource\",\"id\":\"p3053\",\"attributes\":{\"selected\":{\"type\":\"object\",\"name\":\"Selection\",\"id\":\"p3054\",\"attributes\":{\"indices\":[],\"line_indices\":[]}},\"selection_policy\":{\"type\":\"object\",\"name\":\"UnionRenderers\",\"id\":\"p3055\"},\"data\":{\"type\":\"map\",\"entries\":[[\"index\",{\"type\":\"ndarray\",\"array\":{\"type\":\"bytes\",\"data\":\"AwAAAAkAAAA=\"},\"shape\":[2],\"dtype\":\"int32\",\"order\":\"little\"}],[\"name\",{\"type\":\"ndarray\",\"array\":[\"a\",\"d#\"],\"shape\":[2],\"dtype\":\"object\",\"order\":\"little\"}],[\"note_frequency_Hz\",{\"type\":\"ndarray\",\"array\":{\"type\":\"bytes\",\"data\":\"AAAAAACAa0CuR+F6FHJzQA==\"},\"shape\":[2],\"dtype\":\"float64\",\"order\":\"little\"}],[\"light_frequency_THz\",{\"type\":\"ndarray\",\"array\":{\"type\":\"bytes\",\"data\":\"TeoG1o88fkC5c7rzdGGFQA==\"},\"shape\":[2],\"dtype\":\"float64\",\"order\":\"little\"}],[\"color\",{\"type\":\"ndarray\",\"array\":[[255.0,159.14996191897876,0.0,1.0],[43.98033984308385,0.0,252.27282488970076,1.0]],\"shape\":[2],\"dtype\":\"object\",\"order\":\"little\"}],[\"text_x\",{\"type\":\"ndarray\",\"array\":{\"type\":\"bytes\",\"data\":\"b5jJ0fZpgzylZK468h6dvA==\"},\"shape\":[2],\"dtype\":\"float64\",\"order\":\"little\"}],[\"text_y\",{\"type\":\"ndarray\",\"array\":{\"type\":\"bytes\",\"data\":\"mpmZmZmZ4T+amZmZmZnhvw==\"},\"shape\":[2],\"dtype\":\"float64\",\"order\":\"little\"}],[\"start_angle\",{\"type\":\"ndarray\",\"array\":{\"type\":\"bytes\",\"data\":\"AAAAAAAAAAAYLURU+yEJQA==\"},\"shape\":[2],\"dtype\":\"float64\",\"order\":\"little\"}],[\"end_angle\",{\"type\":\"ndarray\",\"array\":{\"type\":\"bytes\",\"data\":\"GC1EVPshCUAYLURU+yEZQA==\"},\"shape\":[2],\"dtype\":\"float64\",\"order\":\"little\"}]]}}},\"view\":{\"type\":\"object\",\"name\":\"CDSView\",\"id\":\"p3063\",\"attributes\":{\"filter\":{\"type\":\"object\",\"name\":\"AllIndices\",\"id\":\"p3064\"}}},\"glyph\":{\"type\":\"object\",\"name\":\"AnnularWedge\",\"id\":\"p3059\",\"attributes\":{\"x\":{\"type\":\"value\",\"value\":0},\"y\":{\"type\":\"value\",\"value\":0},\"inner_radius\":{\"type\":\"value\",\"value\":0},\"outer_radius\":{\"type\":\"value\",\"value\":0.5},\"start_angle\":{\"type\":\"field\",\"field\":\"start_angle\"},\"end_angle\":{\"type\":\"field\",\"field\":\"end_angle\"},\"line_color\":{\"type\":\"field\",\"field\":\"color\"},\"fill_color\":{\"type\":\"field\",\"field\":\"color\"},\"hatch_color\":{\"type\":\"field\",\"field\":\"color\"}}},\"nonselection_glyph\":{\"type\":\"object\",\"name\":\"AnnularWedge\",\"id\":\"p3060\",\"attributes\":{\"x\":{\"type\":\"value\",\"value\":0},\"y\":{\"type\":\"value\",\"value\":0},\"inner_radius\":{\"type\":\"value\",\"value\":0},\"outer_radius\":{\"type\":\"value\",\"value\":0.5},\"start_angle\":{\"type\":\"field\",\"field\":\"start_angle\"},\"end_angle\":{\"type\":\"field\",\"field\":\"end_angle\"},\"line_color\":{\"type\":\"field\",\"field\":\"color\"},\"line_alpha\":{\"type\":\"value\",\"value\":0.1},\"fill_color\":{\"type\":\"field\",\"field\":\"color\"},\"fill_alpha\":{\"type\":\"value\",\"value\":0.1},\"hatch_color\":{\"type\":\"field\",\"field\":\"color\"},\"hatch_alpha\":{\"type\":\"value\",\"value\":0.1}}},\"muted_glyph\":{\"type\":\"object\",\"name\":\"AnnularWedge\",\"id\":\"p3061\",\"attributes\":{\"x\":{\"type\":\"value\",\"value\":0},\"y\":{\"type\":\"value\",\"value\":0},\"inner_radius\":{\"type\":\"value\",\"value\":0},\"outer_radius\":{\"type\":\"value\",\"value\":0.5},\"start_angle\":{\"type\":\"field\",\"field\":\"start_angle\"},\"end_angle\":{\"type\":\"field\",\"field\":\"end_angle\"},\"line_color\":{\"type\":\"field\",\"field\":\"color\"},\"line_alpha\":{\"type\":\"value\",\"value\":0.2},\"fill_color\":{\"type\":\"field\",\"field\":\"color\"},\"fill_alpha\":{\"type\":\"value\",\"value\":0.2},\"hatch_color\":{\"type\":\"field\",\"field\":\"color\"},\"hatch_alpha\":{\"type\":\"value\",\"value\":0.2}}}}},{\"type\":\"object\",\"name\":\"GlyphRenderer\",\"id\":\"p3074\",\"attributes\":{\"data_source\":{\"type\":\"object\",\"name\":\"ColumnDataSource\",\"id\":\"p3065\",\"attributes\":{\"selected\":{\"type\":\"object\",\"name\":\"Selection\",\"id\":\"p3066\",\"attributes\":{\"indices\":[],\"line_indices\":[]}},\"selection_policy\":{\"type\":\"object\",\"name\":\"UnionRenderers\",\"id\":\"p3067\"},\"data\":{\"type\":\"map\",\"entries\":[[\"index\",{\"type\":\"ndarray\",\"array\":{\"type\":\"bytes\",\"data\":\"AwAAAAkAAAA=\"},\"shape\":[2],\"dtype\":\"int32\",\"order\":\"little\"}],[\"name\",{\"type\":\"ndarray\",\"array\":[\"a\",\"d#\"],\"shape\":[2],\"dtype\":\"object\",\"order\":\"little\"}],[\"note_frequency_Hz\",{\"type\":\"ndarray\",\"array\":{\"type\":\"bytes\",\"data\":\"AAAAAACAa0CuR+F6FHJzQA==\"},\"shape\":[2],\"dtype\":\"float64\",\"order\":\"little\"}],[\"light_frequency_THz\",{\"type\":\"ndarray\",\"array\":{\"type\":\"bytes\",\"data\":\"TeoG1o88fkC5c7rzdGGFQA==\"},\"shape\":[2],\"dtype\":\"float64\",\"order\":\"little\"}],[\"color\",{\"type\":\"ndarray\",\"array\":[[255.0,159.14996191897876,0.0,1.0],[43.98033984308385,0.0,252.27282488970076,1.0]],\"shape\":[2],\"dtype\":\"object\",\"order\":\"little\"}],[\"text_x\",{\"type\":\"ndarray\",\"array\":{\"type\":\"bytes\",\"data\":\"b5jJ0fZpgzylZK468h6dvA==\"},\"shape\":[2],\"dtype\":\"float64\",\"order\":\"little\"}],[\"text_y\",{\"type\":\"ndarray\",\"array\":{\"type\":\"bytes\",\"data\":\"mpmZmZmZ4T+amZmZmZnhvw==\"},\"shape\":[2],\"dtype\":\"float64\",\"order\":\"little\"}],[\"start_angle\",{\"type\":\"ndarray\",\"array\":{\"type\":\"bytes\",\"data\":\"AAAAAAAAAAAYLURU+yEJQA==\"},\"shape\":[2],\"dtype\":\"float64\",\"order\":\"little\"}],[\"end_angle\",{\"type\":\"ndarray\",\"array\":{\"type\":\"bytes\",\"data\":\"GC1EVPshCUAYLURU+yEZQA==\"},\"shape\":[2],\"dtype\":\"float64\",\"order\":\"little\"}]]}}},\"view\":{\"type\":\"object\",\"name\":\"CDSView\",\"id\":\"p3075\",\"attributes\":{\"filter\":{\"type\":\"object\",\"name\":\"AllIndices\",\"id\":\"p3076\"}}},\"glyph\":{\"type\":\"object\",\"name\":\"Text\",\"id\":\"p3071\",\"attributes\":{\"x\":{\"type\":\"field\",\"field\":\"text_x\"},\"y\":{\"type\":\"field\",\"field\":\"text_y\"},\"text\":{\"type\":\"field\",\"field\":\"name\"},\"text_color\":{\"type\":\"value\",\"value\":\"black\"},\"text_font_style\":{\"type\":\"value\",\"value\":\"bold\"},\"text_align\":{\"type\":\"value\",\"value\":\"center\"}}},\"nonselection_glyph\":{\"type\":\"object\",\"name\":\"Text\",\"id\":\"p3072\",\"attributes\":{\"x\":{\"type\":\"field\",\"field\":\"text_x\"},\"y\":{\"type\":\"field\",\"field\":\"text_y\"},\"text\":{\"type\":\"field\",\"field\":\"name\"},\"text_color\":{\"type\":\"value\",\"value\":\"black\"},\"text_alpha\":{\"type\":\"value\",\"value\":0.1},\"text_font_style\":{\"type\":\"value\",\"value\":\"bold\"},\"text_align\":{\"type\":\"value\",\"value\":\"center\"}}},\"muted_glyph\":{\"type\":\"object\",\"name\":\"Text\",\"id\":\"p3073\",\"attributes\":{\"x\":{\"type\":\"field\",\"field\":\"text_x\"},\"y\":{\"type\":\"field\",\"field\":\"text_y\"},\"text\":{\"type\":\"field\",\"field\":\"name\"},\"text_color\":{\"type\":\"value\",\"value\":\"black\"},\"text_alpha\":{\"type\":\"value\",\"value\":0.2},\"text_font_style\":{\"type\":\"value\",\"value\":\"bold\"},\"text_align\":{\"type\":\"value\",\"value\":\"center\"}}}}}],\"toolbar\":{\"type\":\"object\",\"name\":\"Toolbar\",\"id\":\"p3027\",\"attributes\":{\"tools\":[{\"type\":\"object\",\"name\":\"PanTool\",\"id\":\"p3042\"},{\"type\":\"object\",\"name\":\"WheelZoomTool\",\"id\":\"p3043\",\"attributes\":{\"renderers\":\"auto\"}},{\"type\":\"object\",\"name\":\"BoxZoomTool\",\"id\":\"p3044\",\"attributes\":{\"overlay\":{\"type\":\"object\",\"name\":\"BoxAnnotation\",\"id\":\"p3045\",\"attributes\":{\"syncable\":false,\"level\":\"overlay\",\"visible\":false,\"left\":{\"type\":\"number\",\"value\":\"nan\"},\"right\":{\"type\":\"number\",\"value\":\"nan\"},\"top\":{\"type\":\"number\",\"value\":\"nan\"},\"bottom\":{\"type\":\"number\",\"value\":\"nan\"},\"left_units\":\"canvas\",\"right_units\":\"canvas\",\"top_units\":\"canvas\",\"bottom_units\":\"canvas\",\"line_color\":\"black\",\"line_alpha\":1.0,\"line_width\":2,\"line_dash\":[4,4],\"fill_color\":\"lightgrey\",\"fill_alpha\":0.5}}}},{\"type\":\"object\",\"name\":\"SaveTool\",\"id\":\"p3050\"},{\"type\":\"object\",\"name\":\"ResetTool\",\"id\":\"p3051\"},{\"type\":\"object\",\"name\":\"HelpTool\",\"id\":\"p3052\"}]}},\"toolbar_location\":null,\"center\":[{\"type\":\"object\",\"name\":\"Grid\",\"id\":\"p3036\",\"attributes\":{\"axis\":{\"type\":\"object\",\"name\":\"LinearAxis\",\"id\":\"p3032\",\"attributes\":{\"ticker\":{\"type\":\"object\",\"name\":\"BasicTicker\",\"id\":\"p3033\",\"attributes\":{\"mantissas\":[1,2,5]}},\"formatter\":{\"type\":\"object\",\"name\":\"BasicTickFormatter\",\"id\":\"p3034\"},\"major_label_policy\":{\"type\":\"object\",\"name\":\"AllLabels\",\"id\":\"p3035\"}}}}},{\"type\":\"object\",\"name\":\"Grid\",\"id\":\"p3041\",\"attributes\":{\"dimension\":1,\"axis\":{\"type\":\"object\",\"name\":\"LinearAxis\",\"id\":\"p3037\",\"attributes\":{\"ticker\":{\"type\":\"object\",\"name\":\"BasicTicker\",\"id\":\"p3038\",\"attributes\":{\"mantissas\":[1,2,5]}},\"formatter\":{\"type\":\"object\",\"name\":\"BasicTickFormatter\",\"id\":\"p3039\"},\"major_label_policy\":{\"type\":\"object\",\"name\":\"AllLabels\",\"id\":\"p3040\"}}}}}]}}]}};\n",
       "  const render_items = [{\"docid\":\"9735d9b2-1766-4310-a4bd-5042490a7934\",\"roots\":{\"p3019\":\"e07bfa84-c5a6-482d-a66a-93cf58efe909\"},\"root_ids\":[\"p3019\"]}];\n",
       "  void root.Bokeh.embed.embed_items_notebook(docs_json, render_items);\n",
       "  }\n",
       "  if (root.Bokeh !== undefined) {\n",
       "    embed_document(root);\n",
       "  } else {\n",
       "    let attempts = 0;\n",
       "    const timer = setInterval(function(root) {\n",
       "      if (root.Bokeh !== undefined) {\n",
       "        clearInterval(timer);\n",
       "        embed_document(root);\n",
       "      } else {\n",
       "        attempts++;\n",
       "        if (attempts > 100) {\n",
       "          clearInterval(timer);\n",
       "          console.log(\"Bokeh: ERROR: Unable to run BokehJS code because BokehJS library is missing\");\n",
       "        }\n",
       "      }\n",
       "    }, 10, root)\n",
       "  }\n",
       "})(window);"
      ],
      "application/vnd.bokehjs_exec.v0+json": ""
     },
     "metadata": {
      "application/vnd.bokehjs_exec.v0+json": {
       "id": "p3019"
      }
     },
     "output_type": "display_data"
    }
   ],
   "source": [
    "show(radial_plot(df.loc[df['name'].isin(['a', 'd#'])].copy()))"
   ]
  },
  {
   "cell_type": "code",
   "execution_count": null,
   "id": "8b727dae-76dd-4fb4-a9db-a87915ce64ee",
   "metadata": {},
   "outputs": [],
   "source": []
  },
  {
   "cell_type": "code",
   "execution_count": 16,
   "id": "7600b9f4-60fb-4480-8ea1-01e1791b3173",
   "metadata": {},
   "outputs": [
    {
     "data": {
      "text/html": [
       "\n",
       "  <div id=\"f7028078-c8e3-4a09-9a64-da6b21d21e61\" data-root-id=\"p1074\" style=\"display: contents;\"></div>\n"
      ]
     },
     "metadata": {},
     "output_type": "display_data"
    },
    {
     "data": {
      "application/javascript": [
       "(function(root) {\n",
       "  function embed_document(root) {\n",
       "  const docs_json = {\"5a385558-abf1-4d4d-99df-5f0a93cc2665\":{\"version\":\"3.4.0\",\"title\":\"Bokeh Application\",\"roots\":[{\"type\":\"object\",\"name\":\"Figure\",\"id\":\"p1074\",\"attributes\":{\"x_range\":{\"type\":\"object\",\"name\":\"Range1d\",\"id\":\"p1083\",\"attributes\":{\"start\":-0.6,\"end\":0.6}},\"y_range\":{\"type\":\"object\",\"name\":\"Range1d\",\"id\":\"p1084\",\"attributes\":{\"start\":-0.6,\"end\":0.6}},\"x_scale\":{\"type\":\"object\",\"name\":\"LinearScale\",\"id\":\"p1085\"},\"y_scale\":{\"type\":\"object\",\"name\":\"LinearScale\",\"id\":\"p1086\"},\"title\":null,\"renderers\":[{\"type\":\"object\",\"name\":\"GlyphRenderer\",\"id\":\"p1117\",\"attributes\":{\"data_source\":{\"type\":\"object\",\"name\":\"ColumnDataSource\",\"id\":\"p1108\",\"attributes\":{\"selected\":{\"type\":\"object\",\"name\":\"Selection\",\"id\":\"p1109\",\"attributes\":{\"indices\":[],\"line_indices\":[]}},\"selection_policy\":{\"type\":\"object\",\"name\":\"UnionRenderers\",\"id\":\"p1110\"},\"data\":{\"type\":\"map\",\"entries\":[[\"index\",{\"type\":\"ndarray\",\"array\":{\"type\":\"bytes\",\"data\":\"AAAAAAEAAAACAAAAAwAAAAQAAAAFAAAABgAAAAcAAAAIAAAACQAAAAoAAAALAAAA\"},\"shape\":[12],\"dtype\":\"int32\",\"order\":\"little\"}],[\"name\",{\"type\":\"ndarray\",\"array\":[\"f#\",\"g\",\"g#\",\"a\",\"a#\",\"b\",\"c\",\"c#\",\"d\",\"d#\",\"e\",\"f\"],\"shape\":[12],\"dtype\":\"object\",\"order\":\"little\"}],[\"note_frequency_Hz\",{\"type\":\"ndarray\",\"array\":{\"type\":\"bytes\",\"data\":\"AAAAAAAgZ0AAAAAAAIBoQM3MzMzM9GlAAAAAAACAa0DD9ShcjyJtQK5H4XoU3m5ArkfhehRacEB7FK5H4VJxQMP1KFyPWnJArkfhehRyc0CuR+F6FJp0QEjhehSu03VA\"},\"shape\":[12],\"dtype\":\"float64\",\"order\":\"little\"}],[\"light_frequency_THz\",{\"type\":\"ndarray\",\"array\":{\"type\":\"bytes\",\"data\":\"TVy03BtteUBqTs4NI/B6QDj83OwIinxATeoG1o88fkAcNEsAYwSAQEj9WOQ2+IBA9xJAxaT6gUDvnKW+MwyDQAD4ChEfLoRAuXO683RhhUAjRZCL6aaGQA/JDRm4/4dA\"},\"shape\":[12],\"dtype\":\"float64\",\"order\":\"little\"}],[\"color\",{\"type\":\"ndarray\",\"array\":[[158.67752253917945,0.0,0.0,1.0],[207.6224790905554,0.0,0.0,1.0],[244.99771754242087,0.0,0.0,1.0],[255.0,159.14996191897876,0.0,1.0],[255.0,245.1884773698106,0.0,1.0],[197.7024800405969,255.0,0.0,1.0],[101.44624977690603,255.0,0.0,1.0],[0.0,255.0,242.9480556450771,1.0],[0.0,177.56414477967783,255.0,1.0],[43.98033984308385,0.0,252.27282488970076,1.0],[140.73130645437251,0.0,212.09777505838335,1.0],[150.47814459566175,0.0,165.4582127824298,1.0]],\"shape\":[12],\"dtype\":\"object\",\"order\":\"little\"}],[\"text_x\",{\"type\":\"ndarray\",\"array\":{\"type\":\"bytes\",\"data\":\"Oj7QXvKw4D8bLH87B3DYP7WgQgS748E/rqBCBLvjwb8aLH87B3DYvzk+0F7ysOC/Oj7QXvKw4L8cLH87B3DYv66gQgS748G/qKBCBLvjwT8TLH87B3DYPzo+0F7ysOA/\"},\"shape\":[12],\"dtype\":\"float64\",\"order\":\"little\"}],[\"text_y\",{\"type\":\"ndarray\",\"array\":{\"type\":\"bytes\",\"data\":\"sKBCBLvjwT8aLH87B3DYPzk+0F7ysOA/Oj7QXvKw4D8bLH87B3DYP7agQgS748E/qaBCBLvjwb8aLH87B3DYvzo+0F7ysOC/Oj7QXvKw4L8jLH87B3DYv6+gQgS748G/\"},\"shape\":[12],\"dtype\":\"float64\",\"order\":\"little\"}],[\"start_angle\",{\"type\":\"ndarray\",\"array\":{\"type\":\"bytes\",\"data\":\"AAAAAAAAAABlcy04UsHgP2VzLThSwfA/GC1EVPsh+T9lcy04UsEAQD7QOMam8QRAGC1EVPshCUDxiU/iT1INQGVzLThSwRBA0iEzf3zZEkA+0DjGpvEUQKt+Pg3RCRdA\"},\"shape\":[12],\"dtype\":\"float64\",\"order\":\"little\"}],[\"end_angle\",{\"type\":\"ndarray\",\"array\":{\"type\":\"bytes\",\"data\":\"ZXMtOFLB4D9lcy04UsHwPxgtRFT7Ifk/ZXMtOFLBAEA+0DjGpvEEQBgtRFT7IQlA8YlP4k9SDUBlcy04UsEQQNIhM3982RJAPtA4xqbxFECrfj4N0QkXQBgtRFT7IRlA\"},\"shape\":[12],\"dtype\":\"float64\",\"order\":\"little\"}]]}}},\"view\":{\"type\":\"object\",\"name\":\"CDSView\",\"id\":\"p1118\",\"attributes\":{\"filter\":{\"type\":\"object\",\"name\":\"AllIndices\",\"id\":\"p1119\"}}},\"glyph\":{\"type\":\"object\",\"name\":\"AnnularWedge\",\"id\":\"p1114\",\"attributes\":{\"x\":{\"type\":\"value\",\"value\":0},\"y\":{\"type\":\"value\",\"value\":0},\"inner_radius\":{\"type\":\"value\",\"value\":0},\"outer_radius\":{\"type\":\"value\",\"value\":0.5},\"start_angle\":{\"type\":\"field\",\"field\":\"start_angle\"},\"end_angle\":{\"type\":\"field\",\"field\":\"end_angle\"},\"line_color\":{\"type\":\"field\",\"field\":\"color\"},\"fill_color\":{\"type\":\"field\",\"field\":\"color\"},\"hatch_color\":{\"type\":\"field\",\"field\":\"color\"}}},\"nonselection_glyph\":{\"type\":\"object\",\"name\":\"AnnularWedge\",\"id\":\"p1115\",\"attributes\":{\"x\":{\"type\":\"value\",\"value\":0},\"y\":{\"type\":\"value\",\"value\":0},\"inner_radius\":{\"type\":\"value\",\"value\":0},\"outer_radius\":{\"type\":\"value\",\"value\":0.5},\"start_angle\":{\"type\":\"field\",\"field\":\"start_angle\"},\"end_angle\":{\"type\":\"field\",\"field\":\"end_angle\"},\"line_color\":{\"type\":\"field\",\"field\":\"color\"},\"line_alpha\":{\"type\":\"value\",\"value\":0.1},\"fill_color\":{\"type\":\"field\",\"field\":\"color\"},\"fill_alpha\":{\"type\":\"value\",\"value\":0.1},\"hatch_color\":{\"type\":\"field\",\"field\":\"color\"},\"hatch_alpha\":{\"type\":\"value\",\"value\":0.1}}},\"muted_glyph\":{\"type\":\"object\",\"name\":\"AnnularWedge\",\"id\":\"p1116\",\"attributes\":{\"x\":{\"type\":\"value\",\"value\":0},\"y\":{\"type\":\"value\",\"value\":0},\"inner_radius\":{\"type\":\"value\",\"value\":0},\"outer_radius\":{\"type\":\"value\",\"value\":0.5},\"start_angle\":{\"type\":\"field\",\"field\":\"start_angle\"},\"end_angle\":{\"type\":\"field\",\"field\":\"end_angle\"},\"line_color\":{\"type\":\"field\",\"field\":\"color\"},\"line_alpha\":{\"type\":\"value\",\"value\":0.2},\"fill_color\":{\"type\":\"field\",\"field\":\"color\"},\"fill_alpha\":{\"type\":\"value\",\"value\":0.2},\"hatch_color\":{\"type\":\"field\",\"field\":\"color\"},\"hatch_alpha\":{\"type\":\"value\",\"value\":0.2}}}}},{\"type\":\"object\",\"name\":\"GlyphRenderer\",\"id\":\"p1129\",\"attributes\":{\"data_source\":{\"type\":\"object\",\"name\":\"ColumnDataSource\",\"id\":\"p1120\",\"attributes\":{\"selected\":{\"type\":\"object\",\"name\":\"Selection\",\"id\":\"p1121\",\"attributes\":{\"indices\":[],\"line_indices\":[]}},\"selection_policy\":{\"type\":\"object\",\"name\":\"UnionRenderers\",\"id\":\"p1122\"},\"data\":{\"type\":\"map\",\"entries\":[[\"index\",{\"type\":\"ndarray\",\"array\":{\"type\":\"bytes\",\"data\":\"AAAAAAEAAAACAAAAAwAAAAQAAAAFAAAABgAAAAcAAAAIAAAACQAAAAoAAAALAAAA\"},\"shape\":[12],\"dtype\":\"int32\",\"order\":\"little\"}],[\"name\",{\"type\":\"ndarray\",\"array\":[\"f#\",\"g\",\"g#\",\"a\",\"a#\",\"b\",\"c\",\"c#\",\"d\",\"d#\",\"e\",\"f\"],\"shape\":[12],\"dtype\":\"object\",\"order\":\"little\"}],[\"note_frequency_Hz\",{\"type\":\"ndarray\",\"array\":{\"type\":\"bytes\",\"data\":\"AAAAAAAgZ0AAAAAAAIBoQM3MzMzM9GlAAAAAAACAa0DD9ShcjyJtQK5H4XoU3m5ArkfhehRacEB7FK5H4VJxQMP1KFyPWnJArkfhehRyc0CuR+F6FJp0QEjhehSu03VA\"},\"shape\":[12],\"dtype\":\"float64\",\"order\":\"little\"}],[\"light_frequency_THz\",{\"type\":\"ndarray\",\"array\":{\"type\":\"bytes\",\"data\":\"TVy03BtteUBqTs4NI/B6QDj83OwIinxATeoG1o88fkAcNEsAYwSAQEj9WOQ2+IBA9xJAxaT6gUDvnKW+MwyDQAD4ChEfLoRAuXO683RhhUAjRZCL6aaGQA/JDRm4/4dA\"},\"shape\":[12],\"dtype\":\"float64\",\"order\":\"little\"}],[\"color\",{\"type\":\"ndarray\",\"array\":[[158.67752253917945,0.0,0.0,1.0],[207.6224790905554,0.0,0.0,1.0],[244.99771754242087,0.0,0.0,1.0],[255.0,159.14996191897876,0.0,1.0],[255.0,245.1884773698106,0.0,1.0],[197.7024800405969,255.0,0.0,1.0],[101.44624977690603,255.0,0.0,1.0],[0.0,255.0,242.9480556450771,1.0],[0.0,177.56414477967783,255.0,1.0],[43.98033984308385,0.0,252.27282488970076,1.0],[140.73130645437251,0.0,212.09777505838335,1.0],[150.47814459566175,0.0,165.4582127824298,1.0]],\"shape\":[12],\"dtype\":\"object\",\"order\":\"little\"}],[\"text_x\",{\"type\":\"ndarray\",\"array\":{\"type\":\"bytes\",\"data\":\"Oj7QXvKw4D8bLH87B3DYP7WgQgS748E/rqBCBLvjwb8aLH87B3DYvzk+0F7ysOC/Oj7QXvKw4L8cLH87B3DYv66gQgS748G/qKBCBLvjwT8TLH87B3DYPzo+0F7ysOA/\"},\"shape\":[12],\"dtype\":\"float64\",\"order\":\"little\"}],[\"text_y\",{\"type\":\"ndarray\",\"array\":{\"type\":\"bytes\",\"data\":\"sKBCBLvjwT8aLH87B3DYPzk+0F7ysOA/Oj7QXvKw4D8bLH87B3DYP7agQgS748E/qaBCBLvjwb8aLH87B3DYvzo+0F7ysOC/Oj7QXvKw4L8jLH87B3DYv6+gQgS748G/\"},\"shape\":[12],\"dtype\":\"float64\",\"order\":\"little\"}],[\"start_angle\",{\"type\":\"ndarray\",\"array\":{\"type\":\"bytes\",\"data\":\"AAAAAAAAAABlcy04UsHgP2VzLThSwfA/GC1EVPsh+T9lcy04UsEAQD7QOMam8QRAGC1EVPshCUDxiU/iT1INQGVzLThSwRBA0iEzf3zZEkA+0DjGpvEUQKt+Pg3RCRdA\"},\"shape\":[12],\"dtype\":\"float64\",\"order\":\"little\"}],[\"end_angle\",{\"type\":\"ndarray\",\"array\":{\"type\":\"bytes\",\"data\":\"ZXMtOFLB4D9lcy04UsHwPxgtRFT7Ifk/ZXMtOFLBAEA+0DjGpvEEQBgtRFT7IQlA8YlP4k9SDUBlcy04UsEQQNIhM3982RJAPtA4xqbxFECrfj4N0QkXQBgtRFT7IRlA\"},\"shape\":[12],\"dtype\":\"float64\",\"order\":\"little\"}]]}}},\"view\":{\"type\":\"object\",\"name\":\"CDSView\",\"id\":\"p1130\",\"attributes\":{\"filter\":{\"type\":\"object\",\"name\":\"AllIndices\",\"id\":\"p1131\"}}},\"glyph\":{\"type\":\"object\",\"name\":\"Text\",\"id\":\"p1126\",\"attributes\":{\"x\":{\"type\":\"field\",\"field\":\"text_x\"},\"y\":{\"type\":\"field\",\"field\":\"text_y\"},\"text\":{\"type\":\"field\",\"field\":\"name\"},\"text_color\":{\"type\":\"value\",\"value\":\"black\"},\"text_font_style\":{\"type\":\"value\",\"value\":\"bold\"},\"text_align\":{\"type\":\"value\",\"value\":\"center\"}}},\"nonselection_glyph\":{\"type\":\"object\",\"name\":\"Text\",\"id\":\"p1127\",\"attributes\":{\"x\":{\"type\":\"field\",\"field\":\"text_x\"},\"y\":{\"type\":\"field\",\"field\":\"text_y\"},\"text\":{\"type\":\"field\",\"field\":\"name\"},\"text_color\":{\"type\":\"value\",\"value\":\"black\"},\"text_alpha\":{\"type\":\"value\",\"value\":0.1},\"text_font_style\":{\"type\":\"value\",\"value\":\"bold\"},\"text_align\":{\"type\":\"value\",\"value\":\"center\"}}},\"muted_glyph\":{\"type\":\"object\",\"name\":\"Text\",\"id\":\"p1128\",\"attributes\":{\"x\":{\"type\":\"field\",\"field\":\"text_x\"},\"y\":{\"type\":\"field\",\"field\":\"text_y\"},\"text\":{\"type\":\"field\",\"field\":\"name\"},\"text_color\":{\"type\":\"value\",\"value\":\"black\"},\"text_alpha\":{\"type\":\"value\",\"value\":0.2},\"text_font_style\":{\"type\":\"value\",\"value\":\"bold\"},\"text_align\":{\"type\":\"value\",\"value\":\"center\"}}}}}],\"toolbar\":{\"type\":\"object\",\"name\":\"Toolbar\",\"id\":\"p1082\",\"attributes\":{\"tools\":[{\"type\":\"object\",\"name\":\"PanTool\",\"id\":\"p1097\"},{\"type\":\"object\",\"name\":\"WheelZoomTool\",\"id\":\"p1098\",\"attributes\":{\"renderers\":\"auto\"}},{\"type\":\"object\",\"name\":\"BoxZoomTool\",\"id\":\"p1099\",\"attributes\":{\"overlay\":{\"type\":\"object\",\"name\":\"BoxAnnotation\",\"id\":\"p1100\",\"attributes\":{\"syncable\":false,\"level\":\"overlay\",\"visible\":false,\"left\":{\"type\":\"number\",\"value\":\"nan\"},\"right\":{\"type\":\"number\",\"value\":\"nan\"},\"top\":{\"type\":\"number\",\"value\":\"nan\"},\"bottom\":{\"type\":\"number\",\"value\":\"nan\"},\"left_units\":\"canvas\",\"right_units\":\"canvas\",\"top_units\":\"canvas\",\"bottom_units\":\"canvas\",\"line_color\":\"black\",\"line_alpha\":1.0,\"line_width\":2,\"line_dash\":[4,4],\"fill_color\":\"lightgrey\",\"fill_alpha\":0.5}}}},{\"type\":\"object\",\"name\":\"SaveTool\",\"id\":\"p1105\"},{\"type\":\"object\",\"name\":\"ResetTool\",\"id\":\"p1106\"},{\"type\":\"object\",\"name\":\"HelpTool\",\"id\":\"p1107\"}]}},\"toolbar_location\":null,\"center\":[{\"type\":\"object\",\"name\":\"Grid\",\"id\":\"p1091\",\"attributes\":{\"axis\":{\"type\":\"object\",\"name\":\"LinearAxis\",\"id\":\"p1087\",\"attributes\":{\"ticker\":{\"type\":\"object\",\"name\":\"BasicTicker\",\"id\":\"p1088\",\"attributes\":{\"mantissas\":[1,2,5]}},\"formatter\":{\"type\":\"object\",\"name\":\"BasicTickFormatter\",\"id\":\"p1089\"},\"major_label_policy\":{\"type\":\"object\",\"name\":\"AllLabels\",\"id\":\"p1090\"}}}}},{\"type\":\"object\",\"name\":\"Grid\",\"id\":\"p1096\",\"attributes\":{\"dimension\":1,\"axis\":{\"type\":\"object\",\"name\":\"LinearAxis\",\"id\":\"p1092\",\"attributes\":{\"ticker\":{\"type\":\"object\",\"name\":\"BasicTicker\",\"id\":\"p1093\",\"attributes\":{\"mantissas\":[1,2,5]}},\"formatter\":{\"type\":\"object\",\"name\":\"BasicTickFormatter\",\"id\":\"p1094\"},\"major_label_policy\":{\"type\":\"object\",\"name\":\"AllLabels\",\"id\":\"p1095\"}}}}}]}}]}};\n",
       "  const render_items = [{\"docid\":\"5a385558-abf1-4d4d-99df-5f0a93cc2665\",\"roots\":{\"p1074\":\"f7028078-c8e3-4a09-9a64-da6b21d21e61\"},\"root_ids\":[\"p1074\"]}];\n",
       "  void root.Bokeh.embed.embed_items_notebook(docs_json, render_items);\n",
       "  }\n",
       "  if (root.Bokeh !== undefined) {\n",
       "    embed_document(root);\n",
       "  } else {\n",
       "    let attempts = 0;\n",
       "    const timer = setInterval(function(root) {\n",
       "      if (root.Bokeh !== undefined) {\n",
       "        clearInterval(timer);\n",
       "        embed_document(root);\n",
       "      } else {\n",
       "        attempts++;\n",
       "        if (attempts > 100) {\n",
       "          clearInterval(timer);\n",
       "          console.log(\"Bokeh: ERROR: Unable to run BokehJS code because BokehJS library is missing\");\n",
       "        }\n",
       "      }\n",
       "    }, 10, root)\n",
       "  }\n",
       "})(window);"
      ],
      "application/vnd.bokehjs_exec.v0+json": ""
     },
     "metadata": {
      "application/vnd.bokehjs_exec.v0+json": {
       "id": "p1074"
      }
     },
     "output_type": "display_data"
    }
   ],
   "source": [
    "show(radial_plot(df.copy(), show_text=True))"
   ]
  },
  {
   "cell_type": "code",
   "execution_count": 70,
   "id": "7c6af68e-c148-4fef-b6fb-3eeeaabdf74c",
   "metadata": {},
   "outputs": [],
   "source": [
    "white_keys = ['g', 'a', 'b', 'c', 'd', 'e', 'f']\n",
    "df_white_keys = df.loc[df['name'].isin(white_keys)].copy()\n",
    "# show(radial_plot(df_white_keys))"
   ]
  },
  {
   "cell_type": "markdown",
   "id": "dfd96f9b-65c0-4d94-a28d-bed6b596252b",
   "metadata": {},
   "source": [
    "# Circle of Fifths"
   ]
  },
  {
   "cell_type": "code",
   "execution_count": null,
   "id": "c0b4988d-75f6-45ff-af79-a5fc602b268b",
   "metadata": {},
   "outputs": [],
   "source": [
    "fifths = ['c', 'g', 'd', 'a', 'e', 'b', 'f#', 'c#', 'g#', 'd#', 'a#', 'f']\n",
    "relative_minors = ['am', "
   ]
  }
 ],
 "metadata": {
  "kernelspec": {
   "display_name": "Python 3 (ipykernel)",
   "language": "python",
   "name": "python3"
  },
  "language_info": {
   "codemirror_mode": {
    "name": "ipython",
    "version": 3
   },
   "file_extension": ".py",
   "mimetype": "text/x-python",
   "name": "python",
   "nbconvert_exporter": "python",
   "pygments_lexer": "ipython3",
   "version": "3.12.1"
  }
 },
 "nbformat": 4,
 "nbformat_minor": 5
}
